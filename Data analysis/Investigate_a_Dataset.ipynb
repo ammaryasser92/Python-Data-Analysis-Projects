{
 "cells": [
  {
   "cell_type": "markdown",
   "metadata": {},
   "source": [
    "> **Tip**: Welcome to the Investigate a Dataset project! You will find tips in quoted sections like this to help organize your approach to your investigation. Before submitting your project, it will be a good idea to go back through your report and remove these sections to make the presentation of your work as tidy as possible. First things first, you might want to double-click this Markdown cell and change the title so that it reflects your dataset and investigation.\n",
    "\n",
    "# Project: Soccer Database Analysis\n",
    "\n",
    "## Table of Contents\n",
    "<ul>\n",
    "<li><a href=\"#intro\">Introduction</a></li>\n",
    "<li><a href=\"#wrangling\">Data Wrangling</a></li>\n",
    "<li><a href=\"#eda\">Exploratory Data Analysis</a></li>\n",
    "<li><a href=\"#conclusions\">Conclusions</a></li>\n",
    "</ul>"
   ]
  },
  {
   "cell_type": "markdown",
   "metadata": {},
   "source": [
    "<a id='intro'></a>\n",
    "## Introduction\n",
    "\n",
    "> For this project I will be analyzing data extracted from the soccer database, using DB Browser for SQLite, which comprises eight different tables.\n",
    "\n",
    ">I am going to focus on the factors associated with higher winning rate such as home_field advantage and other team-related attributes.\n",
    "\n",
    "> The questions that this analysis will focus on:\n",
    "\n",
    "> 1- Does home field advantage matter?\n",
    "\n",
    "> 2- What attributes are associated with a higher winning rate?\n",
    "\n",
    "> 3- What are the most successful teams in Europe over the time period in question?\n",
    "\n",
    "> 4- Who the the top players in Europe over the time period?\n",
    "\n",
    "> 5- Who are the most prolific penalty takers in Europe?\n",
    "\n",
    "> 6- What are the attributes associated with different levels of footballers?"
   ]
  },
  {
   "cell_type": "code",
   "execution_count": 1,
   "metadata": {},
   "outputs": [],
   "source": [
    "import pandas as pd\n",
    "import numpy as np\n",
    "import matplotlib.pyplot as plt\n",
    "import seaborn as sns\n",
    "%matplotlib inline\n",
    "sns.set_style('darkgrid')"
   ]
  },
  {
   "cell_type": "markdown",
   "metadata": {},
   "source": [
    "<a id='wrangling'></a>\n",
    "## Data Wrangling\n",
    "\n",
    "\n",
    "### General Properties"
   ]
  },
  {
   "cell_type": "code",
   "execution_count": 2,
   "metadata": {
    "scrolled": true
   },
   "outputs": [
    {
     "data": {
      "text/html": [
       "<div>\n",
       "<style scoped>\n",
       "    .dataframe tbody tr th:only-of-type {\n",
       "        vertical-align: middle;\n",
       "    }\n",
       "\n",
       "    .dataframe tbody tr th {\n",
       "        vertical-align: top;\n",
       "    }\n",
       "\n",
       "    .dataframe thead th {\n",
       "        text-align: right;\n",
       "    }\n",
       "</style>\n",
       "<table border=\"1\" class=\"dataframe\">\n",
       "  <thead>\n",
       "    <tr style=\"text-align: right;\">\n",
       "      <th></th>\n",
       "      <th>country_name</th>\n",
       "      <th>league_name</th>\n",
       "      <th>season</th>\n",
       "      <th>date</th>\n",
       "      <th>home_team</th>\n",
       "      <th>home_goals</th>\n",
       "      <th>away_goals</th>\n",
       "      <th>away_team</th>\n",
       "      <th>winner</th>\n",
       "    </tr>\n",
       "  </thead>\n",
       "  <tbody>\n",
       "    <tr>\n",
       "      <th>0</th>\n",
       "      <td>Belgium</td>\n",
       "      <td>Belgium Jupiler League</td>\n",
       "      <td>2008/2009</td>\n",
       "      <td>2008-08-17 00:00:00</td>\n",
       "      <td>KRC Genk</td>\n",
       "      <td>1</td>\n",
       "      <td>1</td>\n",
       "      <td>Beerschot AC</td>\n",
       "      <td>Draw</td>\n",
       "    </tr>\n",
       "    <tr>\n",
       "      <th>1</th>\n",
       "      <td>Belgium</td>\n",
       "      <td>Belgium Jupiler League</td>\n",
       "      <td>2008/2009</td>\n",
       "      <td>2008-08-16 00:00:00</td>\n",
       "      <td>SV Zulte-Waregem</td>\n",
       "      <td>0</td>\n",
       "      <td>0</td>\n",
       "      <td>Sporting Lokeren</td>\n",
       "      <td>Draw</td>\n",
       "    </tr>\n",
       "    <tr>\n",
       "      <th>2</th>\n",
       "      <td>Belgium</td>\n",
       "      <td>Belgium Jupiler League</td>\n",
       "      <td>2008/2009</td>\n",
       "      <td>2008-08-16 00:00:00</td>\n",
       "      <td>KSV Cercle Brugge</td>\n",
       "      <td>0</td>\n",
       "      <td>3</td>\n",
       "      <td>RSC Anderlecht</td>\n",
       "      <td>RSC Anderlecht</td>\n",
       "    </tr>\n",
       "    <tr>\n",
       "      <th>3</th>\n",
       "      <td>Belgium</td>\n",
       "      <td>Belgium Jupiler League</td>\n",
       "      <td>2008/2009</td>\n",
       "      <td>2008-08-17 00:00:00</td>\n",
       "      <td>KAA Gent</td>\n",
       "      <td>5</td>\n",
       "      <td>0</td>\n",
       "      <td>RAEC Mons</td>\n",
       "      <td>KAA Gent</td>\n",
       "    </tr>\n",
       "    <tr>\n",
       "      <th>4</th>\n",
       "      <td>Belgium</td>\n",
       "      <td>Belgium Jupiler League</td>\n",
       "      <td>2008/2009</td>\n",
       "      <td>2008-08-16 00:00:00</td>\n",
       "      <td>FCV Dender EH</td>\n",
       "      <td>1</td>\n",
       "      <td>3</td>\n",
       "      <td>Standard de Liège</td>\n",
       "      <td>Standard de Liège</td>\n",
       "    </tr>\n",
       "  </tbody>\n",
       "</table>\n",
       "</div>"
      ],
      "text/plain": [
       "  country_name             league_name     season                 date  \\\n",
       "0      Belgium  Belgium Jupiler League  2008/2009  2008-08-17 00:00:00   \n",
       "1      Belgium  Belgium Jupiler League  2008/2009  2008-08-16 00:00:00   \n",
       "2      Belgium  Belgium Jupiler League  2008/2009  2008-08-16 00:00:00   \n",
       "3      Belgium  Belgium Jupiler League  2008/2009  2008-08-17 00:00:00   \n",
       "4      Belgium  Belgium Jupiler League  2008/2009  2008-08-16 00:00:00   \n",
       "\n",
       "           home_team  home_goals  away_goals          away_team  \\\n",
       "0           KRC Genk           1           1       Beerschot AC   \n",
       "1   SV Zulte-Waregem           0           0   Sporting Lokeren   \n",
       "2  KSV Cercle Brugge           0           3     RSC Anderlecht   \n",
       "3           KAA Gent           5           0          RAEC Mons   \n",
       "4      FCV Dender EH           1           3  Standard de Liège   \n",
       "\n",
       "              winner  \n",
       "0               Draw  \n",
       "1               Draw  \n",
       "2     RSC Anderlecht  \n",
       "3           KAA Gent  \n",
       "4  Standard de Liège  "
      ]
     },
     "execution_count": 2,
     "metadata": {},
     "output_type": "execute_result"
    }
   ],
   "source": [
    "df_matches = pd.read_csv('matches.csv')\n",
    "df_matches.head()"
   ]
  },
  {
   "cell_type": "markdown",
   "metadata": {},
   "source": [
    "viewing the first few rows of the dataframe to analyze its general structure and find if it needs any modifications."
   ]
  },
  {
   "cell_type": "code",
   "execution_count": 3,
   "metadata": {
    "scrolled": true
   },
   "outputs": [
    {
     "data": {
      "text/plain": [
       "(25979, 9)"
      ]
     },
     "execution_count": 3,
     "metadata": {},
     "output_type": "execute_result"
    }
   ],
   "source": [
    "df_matches.shape"
   ]
  },
  {
   "cell_type": "code",
   "execution_count": 4,
   "metadata": {
    "scrolled": true
   },
   "outputs": [
    {
     "name": "stdout",
     "output_type": "stream",
     "text": [
      "<class 'pandas.core.frame.DataFrame'>\n",
      "RangeIndex: 25979 entries, 0 to 25978\n",
      "Data columns (total 9 columns):\n",
      "country_name    25979 non-null object\n",
      "league_name     25979 non-null object\n",
      "season          25979 non-null object\n",
      "date            25979 non-null object\n",
      "home_team       25979 non-null object\n",
      "home_goals      25979 non-null int64\n",
      "away_goals      25979 non-null int64\n",
      "away_team       25979 non-null object\n",
      "winner          25979 non-null object\n",
      "dtypes: int64(2), object(7)\n",
      "memory usage: 1.8+ MB\n"
     ]
    }
   ],
   "source": [
    "df_matches.info()"
   ]
  },
  {
   "cell_type": "markdown",
   "metadata": {},
   "source": [
    "there are no Null values in the dataframe, but the datatype of the date column needs to be changed to datetime."
   ]
  },
  {
   "cell_type": "code",
   "execution_count": 5,
   "metadata": {
    "scrolled": false
   },
   "outputs": [
    {
     "data": {
      "text/html": [
       "<div>\n",
       "<style scoped>\n",
       "    .dataframe tbody tr th:only-of-type {\n",
       "        vertical-align: middle;\n",
       "    }\n",
       "\n",
       "    .dataframe tbody tr th {\n",
       "        vertical-align: top;\n",
       "    }\n",
       "\n",
       "    .dataframe thead th {\n",
       "        text-align: right;\n",
       "    }\n",
       "</style>\n",
       "<table border=\"1\" class=\"dataframe\">\n",
       "  <thead>\n",
       "    <tr style=\"text-align: right;\">\n",
       "      <th></th>\n",
       "      <th>home_goals</th>\n",
       "      <th>away_goals</th>\n",
       "    </tr>\n",
       "  </thead>\n",
       "  <tbody>\n",
       "    <tr>\n",
       "      <th>count</th>\n",
       "      <td>25979.000000</td>\n",
       "      <td>25979.000000</td>\n",
       "    </tr>\n",
       "    <tr>\n",
       "      <th>mean</th>\n",
       "      <td>1.544594</td>\n",
       "      <td>1.160938</td>\n",
       "    </tr>\n",
       "    <tr>\n",
       "      <th>std</th>\n",
       "      <td>1.297158</td>\n",
       "      <td>1.142110</td>\n",
       "    </tr>\n",
       "    <tr>\n",
       "      <th>min</th>\n",
       "      <td>0.000000</td>\n",
       "      <td>0.000000</td>\n",
       "    </tr>\n",
       "    <tr>\n",
       "      <th>25%</th>\n",
       "      <td>1.000000</td>\n",
       "      <td>0.000000</td>\n",
       "    </tr>\n",
       "    <tr>\n",
       "      <th>50%</th>\n",
       "      <td>1.000000</td>\n",
       "      <td>1.000000</td>\n",
       "    </tr>\n",
       "    <tr>\n",
       "      <th>75%</th>\n",
       "      <td>2.000000</td>\n",
       "      <td>2.000000</td>\n",
       "    </tr>\n",
       "    <tr>\n",
       "      <th>max</th>\n",
       "      <td>10.000000</td>\n",
       "      <td>9.000000</td>\n",
       "    </tr>\n",
       "  </tbody>\n",
       "</table>\n",
       "</div>"
      ],
      "text/plain": [
       "         home_goals    away_goals\n",
       "count  25979.000000  25979.000000\n",
       "mean       1.544594      1.160938\n",
       "std        1.297158      1.142110\n",
       "min        0.000000      0.000000\n",
       "25%        1.000000      0.000000\n",
       "50%        1.000000      1.000000\n",
       "75%        2.000000      2.000000\n",
       "max       10.000000      9.000000"
      ]
     },
     "execution_count": 5,
     "metadata": {},
     "output_type": "execute_result"
    }
   ],
   "source": [
    "df_matches.describe()"
   ]
  },
  {
   "cell_type": "markdown",
   "metadata": {},
   "source": [
    "here we can see that the home teams score more goals than away teams on average. "
   ]
  },
  {
   "cell_type": "code",
   "execution_count": 106,
   "metadata": {
    "scrolled": true
   },
   "outputs": [
    {
     "data": {
      "image/png": "[encoded data removed]",
      "text/plain": [
       "<matplotlib.figure.Figure at 0x7f7fe87fe588>"
      ]
     },
     "metadata": {
      "needs_background": "light"
     },
     "output_type": "display_data"
    }
   ],
   "source": [
    "df_matches['home_goals'].hist(color = 'r')\n",
    "df_matches['away_goals'].hist(alpha = 0.7, color = 'w')\n",
    "plt.legend(['home goals', 'away goals'])\n",
    "plt.title('The distribution of home and away goals')\n",
    "plt.xlabel('Goals')\n",
    "plt.ylabel('Frequency');"
   ]
  },
  {
   "cell_type": "markdown",
   "metadata": {},
   "source": [
    "even though home teams seem to score more goals, the distribution of home and away goals seems pretty similar."
   ]
  },
  {
   "cell_type": "markdown",
   "metadata": {},
   "source": [
    "### Data Cleaning "
   ]
  },
  {
   "cell_type": "code",
   "execution_count": 6,
   "metadata": {},
   "outputs": [
    {
     "data": {
      "text/plain": [
       "str"
      ]
     },
     "execution_count": 6,
     "metadata": {},
     "output_type": "execute_result"
    }
   ],
   "source": [
    "#changing the data type of the date column\n",
    "type(df_matches.date[0])"
   ]
  },
  {
   "cell_type": "code",
   "execution_count": 7,
   "metadata": {},
   "outputs": [],
   "source": [
    "df_matches.date = pd.to_datetime(df_matches.date)"
   ]
  },
  {
   "cell_type": "code",
   "execution_count": 8,
   "metadata": {
    "scrolled": true
   },
   "outputs": [
    {
     "data": {
      "text/html": [
       "<div>\n",
       "<style scoped>\n",
       "    .dataframe tbody tr th:only-of-type {\n",
       "        vertical-align: middle;\n",
       "    }\n",
       "\n",
       "    .dataframe tbody tr th {\n",
       "        vertical-align: top;\n",
       "    }\n",
       "\n",
       "    .dataframe thead th {\n",
       "        text-align: right;\n",
       "    }\n",
       "</style>\n",
       "<table border=\"1\" class=\"dataframe\">\n",
       "  <thead>\n",
       "    <tr style=\"text-align: right;\">\n",
       "      <th></th>\n",
       "      <th>country_name</th>\n",
       "      <th>league_name</th>\n",
       "      <th>season</th>\n",
       "      <th>date</th>\n",
       "      <th>home_team</th>\n",
       "      <th>home_goals</th>\n",
       "      <th>away_goals</th>\n",
       "      <th>away_team</th>\n",
       "      <th>winner</th>\n",
       "    </tr>\n",
       "  </thead>\n",
       "  <tbody>\n",
       "    <tr>\n",
       "      <th>0</th>\n",
       "      <td>Belgium</td>\n",
       "      <td>Belgium Jupiler League</td>\n",
       "      <td>2008/2009</td>\n",
       "      <td>2008-08-17</td>\n",
       "      <td>KRC Genk</td>\n",
       "      <td>1</td>\n",
       "      <td>1</td>\n",
       "      <td>Beerschot AC</td>\n",
       "      <td>Draw</td>\n",
       "    </tr>\n",
       "    <tr>\n",
       "      <th>1</th>\n",
       "      <td>Belgium</td>\n",
       "      <td>Belgium Jupiler League</td>\n",
       "      <td>2008/2009</td>\n",
       "      <td>2008-08-16</td>\n",
       "      <td>SV Zulte-Waregem</td>\n",
       "      <td>0</td>\n",
       "      <td>0</td>\n",
       "      <td>Sporting Lokeren</td>\n",
       "      <td>Draw</td>\n",
       "    </tr>\n",
       "    <tr>\n",
       "      <th>2</th>\n",
       "      <td>Belgium</td>\n",
       "      <td>Belgium Jupiler League</td>\n",
       "      <td>2008/2009</td>\n",
       "      <td>2008-08-16</td>\n",
       "      <td>KSV Cercle Brugge</td>\n",
       "      <td>0</td>\n",
       "      <td>3</td>\n",
       "      <td>RSC Anderlecht</td>\n",
       "      <td>RSC Anderlecht</td>\n",
       "    </tr>\n",
       "    <tr>\n",
       "      <th>3</th>\n",
       "      <td>Belgium</td>\n",
       "      <td>Belgium Jupiler League</td>\n",
       "      <td>2008/2009</td>\n",
       "      <td>2008-08-17</td>\n",
       "      <td>KAA Gent</td>\n",
       "      <td>5</td>\n",
       "      <td>0</td>\n",
       "      <td>RAEC Mons</td>\n",
       "      <td>KAA Gent</td>\n",
       "    </tr>\n",
       "    <tr>\n",
       "      <th>4</th>\n",
       "      <td>Belgium</td>\n",
       "      <td>Belgium Jupiler League</td>\n",
       "      <td>2008/2009</td>\n",
       "      <td>2008-08-16</td>\n",
       "      <td>FCV Dender EH</td>\n",
       "      <td>1</td>\n",
       "      <td>3</td>\n",
       "      <td>Standard de Liège</td>\n",
       "      <td>Standard de Liège</td>\n",
       "    </tr>\n",
       "  </tbody>\n",
       "</table>\n",
       "</div>"
      ],
      "text/plain": [
       "  country_name             league_name     season       date  \\\n",
       "0      Belgium  Belgium Jupiler League  2008/2009 2008-08-17   \n",
       "1      Belgium  Belgium Jupiler League  2008/2009 2008-08-16   \n",
       "2      Belgium  Belgium Jupiler League  2008/2009 2008-08-16   \n",
       "3      Belgium  Belgium Jupiler League  2008/2009 2008-08-17   \n",
       "4      Belgium  Belgium Jupiler League  2008/2009 2008-08-16   \n",
       "\n",
       "           home_team  home_goals  away_goals          away_team  \\\n",
       "0           KRC Genk           1           1       Beerschot AC   \n",
       "1   SV Zulte-Waregem           0           0   Sporting Lokeren   \n",
       "2  KSV Cercle Brugge           0           3     RSC Anderlecht   \n",
       "3           KAA Gent           5           0          RAEC Mons   \n",
       "4      FCV Dender EH           1           3  Standard de Liège   \n",
       "\n",
       "              winner  \n",
       "0               Draw  \n",
       "1               Draw  \n",
       "2     RSC Anderlecht  \n",
       "3           KAA Gent  \n",
       "4  Standard de Liège  "
      ]
     },
     "execution_count": 8,
     "metadata": {},
     "output_type": "execute_result"
    }
   ],
   "source": [
    "df_matches.head()"
   ]
  },
  {
   "cell_type": "markdown",
   "metadata": {},
   "source": [
    "now the date column has been changed to datetime data type."
   ]
  },
  {
   "cell_type": "markdown",
   "metadata": {},
   "source": [
    "<a id='eda'></a>\n",
    "## Exploratory Data Analysis\n",
    "\n",
    "> **Tip**: Now that you've trimmed and cleaned your data, you're ready to move on to exploration. Compute statistics and create visualizations with the goal of addressing the research questions that you posed in the Introduction section. It is recommended that you be systematic with your approach. Look at one variable at a time, and then follow it up by looking at relationships between variables.\n",
    "\n",
    "### Research Question 1 (Does home-field advantage matter?)"
   ]
  },
  {
   "cell_type": "code",
   "execution_count": 9,
   "metadata": {},
   "outputs": [
    {
     "data": {
      "text/plain": [
       "11919"
      ]
     },
     "execution_count": 9,
     "metadata": {},
     "output_type": "execute_result"
    }
   ],
   "source": [
    "#the number of matches won by home teams\n",
    "home_win_count = df_matches.query('home_team == winner')['season'].count()\n",
    "home_win_count"
   ]
  },
  {
   "cell_type": "code",
   "execution_count": 10,
   "metadata": {},
   "outputs": [
    {
     "data": {
      "text/plain": [
       "7468"
      ]
     },
     "execution_count": 10,
     "metadata": {},
     "output_type": "execute_result"
    }
   ],
   "source": [
    "#the number of matches won by away teams\n",
    "away_win_count = df_matches.query('away_team == winner')['season'].count()\n",
    "away_win_count"
   ]
  },
  {
   "cell_type": "code",
   "execution_count": 11,
   "metadata": {},
   "outputs": [
    {
     "data": {
      "text/plain": [
       "6596"
      ]
     },
     "execution_count": 11,
     "metadata": {},
     "output_type": "execute_result"
    }
   ],
   "source": [
    "#the number of matches that eneded in a draw\n",
    "draw_count = df_matches.query('winner == \"Draw\"')['season'].count()\n",
    "draw_count"
   ]
  },
  {
   "cell_type": "code",
   "execution_count": 12,
   "metadata": {},
   "outputs": [
    {
     "data": {
      "text/plain": [
       "25979"
      ]
     },
     "execution_count": 12,
     "metadata": {},
     "output_type": "execute_result"
    }
   ],
   "source": [
    "#the number of total matches\n",
    "total_games = df_matches['season'].count()\n",
    "total_games"
   ]
  },
  {
   "cell_type": "code",
   "execution_count": 13,
   "metadata": {},
   "outputs": [
    {
     "name": "stdout",
     "output_type": "stream",
     "text": [
      "45.8793641018 28.7462950845 25.3897378652\n"
     ]
    }
   ],
   "source": [
    "home_win_percentage = (home_win_count / total_games) * 100\n",
    "away_win_percentage = (away_win_count / total_games) * 100\n",
    "draw_percentage = (draw_count / total_games) * 100\n",
    "print(home_win_percentage, away_win_percentage, draw_percentage)"
   ]
  },
  {
   "cell_type": "code",
   "execution_count": 14,
   "metadata": {
    "scrolled": true
   },
   "outputs": [
    {
     "data": {
      "image/png": "[encoded data removed]",
      "text/plain": [
       "<matplotlib.figure.Figure at 0x7f7fec19e3c8>"
      ]
     },
     "metadata": {
      "needs_background": "light"
     },
     "output_type": "display_data"
    }
   ],
   "source": [
    "#plotting the results\n",
    "plt.bar([1], home_win_percentage, width = 0.5, color = 'blue', label = 'home win', tick_label = '')\n",
    "plt.bar([2], away_win_percentage, width = 0.5, color = 'red', label = 'away win', tick_label = '')\n",
    "plt.bar([3], draw_percentage, width = 0.5, color = 'black', label = 'draw', tick_label = '')\n",
    "plt.title('Possibility of Winning for Home and Away Teams', fontsize = 18)\n",
    "plt.xlabel('Teams', fontsize = 15)\n",
    "plt.ylabel('winning possibility', fontsize = 15)\n",
    "plt.legend();"
   ]
  },
  {
   "cell_type": "markdown",
   "metadata": {},
   "source": [
    "the above distribution shows that teams that play at their home field have approximately 45% chance of winning, with 28% winning chance for away teams."
   ]
  },
  {
   "cell_type": "markdown",
   "metadata": {},
   "source": [
    "### Research Question 2  (What attributes are associated with a higher winning rate?)"
   ]
  },
  {
   "cell_type": "code",
   "execution_count": 15,
   "metadata": {
    "scrolled": false
   },
   "outputs": [
    {
     "data": {
      "text/html": [
       "<div>\n",
       "<style scoped>\n",
       "    .dataframe tbody tr th:only-of-type {\n",
       "        vertical-align: middle;\n",
       "    }\n",
       "\n",
       "    .dataframe tbody tr th {\n",
       "        vertical-align: top;\n",
       "    }\n",
       "\n",
       "    .dataframe thead th {\n",
       "        text-align: right;\n",
       "    }\n",
       "</style>\n",
       "<table border=\"1\" class=\"dataframe\">\n",
       "  <thead>\n",
       "    <tr style=\"text-align: right;\">\n",
       "      <th></th>\n",
       "      <th>team</th>\n",
       "      <th>wins</th>\n",
       "      <th>loses</th>\n",
       "      <th>team_api_id</th>\n",
       "      <th>buildUpPlaySpeedClass</th>\n",
       "      <th>buildUpPlayDribblingClass</th>\n",
       "      <th>buildUpPlayPassingClass</th>\n",
       "      <th>buildUpPlayPositioningClass</th>\n",
       "      <th>chanceCreationPassingClass</th>\n",
       "      <th>chanceCreationCrossingClass</th>\n",
       "      <th>chanceCreationShootingClass</th>\n",
       "      <th>chanceCreationPositioningClass</th>\n",
       "      <th>defencePressureClass</th>\n",
       "      <th>defenceAggressionClass</th>\n",
       "      <th>defenceTeamWidthClass</th>\n",
       "      <th>defenceDefenderLineClass</th>\n",
       "    </tr>\n",
       "  </thead>\n",
       "  <tbody>\n",
       "    <tr>\n",
       "      <th>0</th>\n",
       "      <td>FC Barcelona</td>\n",
       "      <td>234</td>\n",
       "      <td>27</td>\n",
       "      <td>8634</td>\n",
       "      <td>Balanced</td>\n",
       "      <td>Normal</td>\n",
       "      <td>Mixed</td>\n",
       "      <td>Free Form</td>\n",
       "      <td>Normal</td>\n",
       "      <td>Normal</td>\n",
       "      <td>Normal</td>\n",
       "      <td>Free Form</td>\n",
       "      <td>Medium</td>\n",
       "      <td>Press</td>\n",
       "      <td>Normal</td>\n",
       "      <td>Cover</td>\n",
       "    </tr>\n",
       "  </tbody>\n",
       "</table>\n",
       "</div>"
      ],
      "text/plain": [
       "           team  wins  loses  team_api_id buildUpPlaySpeedClass  \\\n",
       "0  FC Barcelona   234     27         8634              Balanced   \n",
       "\n",
       "  buildUpPlayDribblingClass buildUpPlayPassingClass  \\\n",
       "0                    Normal                   Mixed   \n",
       "\n",
       "  buildUpPlayPositioningClass chanceCreationPassingClass  \\\n",
       "0                   Free Form                     Normal   \n",
       "\n",
       "  chanceCreationCrossingClass chanceCreationShootingClass  \\\n",
       "0                      Normal                      Normal   \n",
       "\n",
       "  chanceCreationPositioningClass defencePressureClass defenceAggressionClass  \\\n",
       "0                      Free Form               Medium                  Press   \n",
       "\n",
       "  defenceTeamWidthClass defenceDefenderLineClass  \n",
       "0                Normal                    Cover  "
      ]
     },
     "execution_count": 15,
     "metadata": {},
     "output_type": "execute_result"
    }
   ],
   "source": [
    "# to answer this question, I will import another data set that is extracted from the soccer database.\n",
    "#this dataset records the wins and loses of some top European teams throughout the time period from 2008 to 2016.\n",
    "df_team_attributes = pd.read_csv('team_results_attributes.csv')\n",
    "df_team_attributes.head(1)"
   ]
  },
  {
   "cell_type": "markdown",
   "metadata": {},
   "source": [
    "looking at the first row of the dataframe, there are some non essential columns that could be removed. Also we can lowercase the column names to make it easier to work with."
   ]
  },
  {
   "cell_type": "code",
   "execution_count": 16,
   "metadata": {},
   "outputs": [
    {
     "data": {
      "text/plain": [
       "(245, 16)"
      ]
     },
     "execution_count": 16,
     "metadata": {},
     "output_type": "execute_result"
    }
   ],
   "source": [
    "df_team_attributes.shape"
   ]
  },
  {
   "cell_type": "code",
   "execution_count": 17,
   "metadata": {},
   "outputs": [
    {
     "name": "stdout",
     "output_type": "stream",
     "text": [
      "<class 'pandas.core.frame.DataFrame'>\n",
      "RangeIndex: 245 entries, 0 to 244\n",
      "Data columns (total 16 columns):\n",
      "team                              245 non-null object\n",
      "wins                              245 non-null int64\n",
      "loses                             245 non-null int64\n",
      "team_api_id                       245 non-null int64\n",
      "buildUpPlaySpeedClass             245 non-null object\n",
      "buildUpPlayDribblingClass         245 non-null object\n",
      "buildUpPlayPassingClass           245 non-null object\n",
      "buildUpPlayPositioningClass       245 non-null object\n",
      "chanceCreationPassingClass        245 non-null object\n",
      "chanceCreationCrossingClass       245 non-null object\n",
      "chanceCreationShootingClass       245 non-null object\n",
      "chanceCreationPositioningClass    245 non-null object\n",
      "defencePressureClass              245 non-null object\n",
      "defenceAggressionClass            245 non-null object\n",
      "defenceTeamWidthClass             245 non-null object\n",
      "defenceDefenderLineClass          245 non-null object\n",
      "dtypes: int64(3), object(13)\n",
      "memory usage: 30.7+ KB\n"
     ]
    }
   ],
   "source": [
    "df_team_attributes.info()"
   ]
  },
  {
   "cell_type": "markdown",
   "metadata": {},
   "source": [
    "there are no Null values in the dataset."
   ]
  },
  {
   "cell_type": "code",
   "execution_count": 18,
   "metadata": {},
   "outputs": [
    {
     "data": {
      "text/html": [
       "<div>\n",
       "<style scoped>\n",
       "    .dataframe tbody tr th:only-of-type {\n",
       "        vertical-align: middle;\n",
       "    }\n",
       "\n",
       "    .dataframe tbody tr th {\n",
       "        vertical-align: top;\n",
       "    }\n",
       "\n",
       "    .dataframe thead th {\n",
       "        text-align: right;\n",
       "    }\n",
       "</style>\n",
       "<table border=\"1\" class=\"dataframe\">\n",
       "  <thead>\n",
       "    <tr style=\"text-align: right;\">\n",
       "      <th></th>\n",
       "      <th>wins</th>\n",
       "      <th>loses</th>\n",
       "      <th>team_api_id</th>\n",
       "    </tr>\n",
       "  </thead>\n",
       "  <tbody>\n",
       "    <tr>\n",
       "      <th>count</th>\n",
       "      <td>245.000000</td>\n",
       "      <td>245.000000</td>\n",
       "      <td>245.000000</td>\n",
       "    </tr>\n",
       "    <tr>\n",
       "      <th>mean</th>\n",
       "      <td>73.967347</td>\n",
       "      <td>69.787755</td>\n",
       "      <td>11856.351020</td>\n",
       "    </tr>\n",
       "    <tr>\n",
       "      <th>std</th>\n",
       "      <td>52.099752</td>\n",
       "      <td>32.429050</td>\n",
       "      <td>24049.761576</td>\n",
       "    </tr>\n",
       "    <tr>\n",
       "      <th>min</th>\n",
       "      <td>3.000000</td>\n",
       "      <td>14.000000</td>\n",
       "      <td>1601.000000</td>\n",
       "    </tr>\n",
       "    <tr>\n",
       "      <th>25%</th>\n",
       "      <td>27.000000</td>\n",
       "      <td>44.000000</td>\n",
       "      <td>8429.000000</td>\n",
       "    </tr>\n",
       "    <tr>\n",
       "      <th>50%</th>\n",
       "      <td>67.000000</td>\n",
       "      <td>71.000000</td>\n",
       "      <td>8667.000000</td>\n",
       "    </tr>\n",
       "    <tr>\n",
       "      <th>75%</th>\n",
       "      <td>107.000000</td>\n",
       "      <td>95.000000</td>\n",
       "      <td>9904.000000</td>\n",
       "    </tr>\n",
       "    <tr>\n",
       "      <th>max</th>\n",
       "      <td>234.000000</td>\n",
       "      <td>142.000000</td>\n",
       "      <td>274581.000000</td>\n",
       "    </tr>\n",
       "  </tbody>\n",
       "</table>\n",
       "</div>"
      ],
      "text/plain": [
       "             wins       loses    team_api_id\n",
       "count  245.000000  245.000000     245.000000\n",
       "mean    73.967347   69.787755   11856.351020\n",
       "std     52.099752   32.429050   24049.761576\n",
       "min      3.000000   14.000000    1601.000000\n",
       "25%     27.000000   44.000000    8429.000000\n",
       "50%     67.000000   71.000000    8667.000000\n",
       "75%    107.000000   95.000000    9904.000000\n",
       "max    234.000000  142.000000  274581.000000"
      ]
     },
     "execution_count": 18,
     "metadata": {},
     "output_type": "execute_result"
    }
   ],
   "source": [
    "df_team_attributes.describe()"
   ]
  },
  {
   "cell_type": "markdown",
   "metadata": {},
   "source": [
    "the summary statistics shows that even though the mean number of wins is about 74, there are teams that achieved as many as 234. the same also applies for the loses. "
   ]
  },
  {
   "cell_type": "code",
   "execution_count": 94,
   "metadata": {
    "scrolled": false
   },
   "outputs": [
    {
     "data": {
      "image/png": "[encoded data removed]",
      "text/plain": [
       "<matplotlib.figure.Figure at 0x7f7fe8435a58>"
      ]
     },
     "metadata": {
      "needs_background": "light"
     },
     "output_type": "display_data"
    }
   ],
   "source": [
    "#plotting the distribution of the wins\n",
    "df_team_attributes['wins'].hist(color = 'r', alpha = 0.5, label = 'wins')\n",
    "df_team_attributes['loses'].hist(color = 'w', alpha = 0.8, label = 'loses')\n",
    "plt.title('The distribution of the wins')\n",
    "plt.xlabel('Number of wins')\n",
    "plt.ylabel('Frequency')\n",
    "plt.legend();"
   ]
  },
  {
   "cell_type": "markdown",
   "metadata": {},
   "source": [
    "in the above visualization, we can see that the distribution of wins is right skewed, and that's why the mean is greater than the median.\n",
    "on the other hand, the distribution of the loses is somewhat normal which explains why the mean is pretty close to the median."
   ]
  },
  {
   "cell_type": "markdown",
   "metadata": {},
   "source": [
    "### Data Cleaning "
   ]
  },
  {
   "cell_type": "code",
   "execution_count": 19,
   "metadata": {},
   "outputs": [],
   "source": [
    "#removing unnecessary columns\n",
    "df_team_attributes.drop(columns = ('team_api_id'), inplace = True)"
   ]
  },
  {
   "cell_type": "code",
   "execution_count": 20,
   "metadata": {},
   "outputs": [
    {
     "data": {
      "text/html": [
       "<div>\n",
       "<style scoped>\n",
       "    .dataframe tbody tr th:only-of-type {\n",
       "        vertical-align: middle;\n",
       "    }\n",
       "\n",
       "    .dataframe tbody tr th {\n",
       "        vertical-align: top;\n",
       "    }\n",
       "\n",
       "    .dataframe thead th {\n",
       "        text-align: right;\n",
       "    }\n",
       "</style>\n",
       "<table border=\"1\" class=\"dataframe\">\n",
       "  <thead>\n",
       "    <tr style=\"text-align: right;\">\n",
       "      <th></th>\n",
       "      <th>team</th>\n",
       "      <th>wins</th>\n",
       "      <th>loses</th>\n",
       "      <th>buildupplayspeedclass</th>\n",
       "      <th>buildupplaydribblingclass</th>\n",
       "      <th>buildupplaypassingclass</th>\n",
       "      <th>buildupplaypositioningclass</th>\n",
       "      <th>chancecreationpassingclass</th>\n",
       "      <th>chancecreationcrossingclass</th>\n",
       "      <th>chancecreationshootingclass</th>\n",
       "      <th>chancecreationpositioningclass</th>\n",
       "      <th>defencepressureclass</th>\n",
       "      <th>defenceaggressionclass</th>\n",
       "      <th>defenceteamwidthclass</th>\n",
       "      <th>defencedefenderlineclass</th>\n",
       "    </tr>\n",
       "  </thead>\n",
       "  <tbody>\n",
       "    <tr>\n",
       "      <th>0</th>\n",
       "      <td>FC Barcelona</td>\n",
       "      <td>234</td>\n",
       "      <td>27</td>\n",
       "      <td>Balanced</td>\n",
       "      <td>Normal</td>\n",
       "      <td>Mixed</td>\n",
       "      <td>Free Form</td>\n",
       "      <td>Normal</td>\n",
       "      <td>Normal</td>\n",
       "      <td>Normal</td>\n",
       "      <td>Free Form</td>\n",
       "      <td>Medium</td>\n",
       "      <td>Press</td>\n",
       "      <td>Normal</td>\n",
       "      <td>Cover</td>\n",
       "    </tr>\n",
       "  </tbody>\n",
       "</table>\n",
       "</div>"
      ],
      "text/plain": [
       "           team  wins  loses buildupplayspeedclass buildupplaydribblingclass  \\\n",
       "0  FC Barcelona   234     27              Balanced                    Normal   \n",
       "\n",
       "  buildupplaypassingclass buildupplaypositioningclass  \\\n",
       "0                   Mixed                   Free Form   \n",
       "\n",
       "  chancecreationpassingclass chancecreationcrossingclass  \\\n",
       "0                     Normal                      Normal   \n",
       "\n",
       "  chancecreationshootingclass chancecreationpositioningclass  \\\n",
       "0                      Normal                      Free Form   \n",
       "\n",
       "  defencepressureclass defenceaggressionclass defenceteamwidthclass  \\\n",
       "0               Medium                  Press                Normal   \n",
       "\n",
       "  defencedefenderlineclass  \n",
       "0                    Cover  "
      ]
     },
     "execution_count": 20,
     "metadata": {},
     "output_type": "execute_result"
    }
   ],
   "source": [
    "#lowercasing column names\n",
    "df_team_attributes.rename(columns = lambda x : x.lower(), inplace = True)\n",
    "df_team_attributes.head(1)"
   ]
  },
  {
   "cell_type": "code",
   "execution_count": 21,
   "metadata": {},
   "outputs": [],
   "source": [
    "#adding new columns for \"total_games\" and \"draws\"\n",
    "games = []\n",
    "for item in df_team_attributes.team:\n",
    "    games.append(df_matches.loc[(df_matches.home_team == item) | (df_matches.away_team == item)]['season'].count())\n",
    "df_team_attributes['games'] = games"
   ]
  },
  {
   "cell_type": "code",
   "execution_count": 22,
   "metadata": {},
   "outputs": [],
   "source": [
    "df_team_attributes['draws'] =  df_team_attributes.games - (df_team_attributes.wins + df_team_attributes.loses)"
   ]
  },
  {
   "cell_type": "code",
   "execution_count": 23,
   "metadata": {},
   "outputs": [
    {
     "data": {
      "text/plain": [
       "(245, 17)"
      ]
     },
     "execution_count": 23,
     "metadata": {},
     "output_type": "execute_result"
    }
   ],
   "source": [
    "df_team_attributes.shape"
   ]
  },
  {
   "cell_type": "code",
   "execution_count": 24,
   "metadata": {},
   "outputs": [],
   "source": [
    "#rearranging columns\n",
    "df_team_attributes = df_team_attributes.iloc[:, np.r_[0, 15, 1,2,16,3:15 ]]"
   ]
  },
  {
   "cell_type": "code",
   "execution_count": 25,
   "metadata": {
    "scrolled": false
   },
   "outputs": [
    {
     "data": {
      "text/html": [
       "<div>\n",
       "<style scoped>\n",
       "    .dataframe tbody tr th:only-of-type {\n",
       "        vertical-align: middle;\n",
       "    }\n",
       "\n",
       "    .dataframe tbody tr th {\n",
       "        vertical-align: top;\n",
       "    }\n",
       "\n",
       "    .dataframe thead th {\n",
       "        text-align: right;\n",
       "    }\n",
       "</style>\n",
       "<table border=\"1\" class=\"dataframe\">\n",
       "  <thead>\n",
       "    <tr style=\"text-align: right;\">\n",
       "      <th></th>\n",
       "      <th>team</th>\n",
       "      <th>games</th>\n",
       "      <th>wins</th>\n",
       "      <th>loses</th>\n",
       "      <th>draws</th>\n",
       "      <th>buildupplayspeedclass</th>\n",
       "      <th>buildupplaydribblingclass</th>\n",
       "      <th>buildupplaypassingclass</th>\n",
       "      <th>buildupplaypositioningclass</th>\n",
       "      <th>chancecreationpassingclass</th>\n",
       "      <th>chancecreationcrossingclass</th>\n",
       "      <th>chancecreationshootingclass</th>\n",
       "      <th>chancecreationpositioningclass</th>\n",
       "      <th>defencepressureclass</th>\n",
       "      <th>defenceaggressionclass</th>\n",
       "      <th>defenceteamwidthclass</th>\n",
       "      <th>defencedefenderlineclass</th>\n",
       "    </tr>\n",
       "  </thead>\n",
       "  <tbody>\n",
       "    <tr>\n",
       "      <th>0</th>\n",
       "      <td>FC Barcelona</td>\n",
       "      <td>304</td>\n",
       "      <td>234</td>\n",
       "      <td>27</td>\n",
       "      <td>43</td>\n",
       "      <td>Balanced</td>\n",
       "      <td>Normal</td>\n",
       "      <td>Mixed</td>\n",
       "      <td>Free Form</td>\n",
       "      <td>Normal</td>\n",
       "      <td>Normal</td>\n",
       "      <td>Normal</td>\n",
       "      <td>Free Form</td>\n",
       "      <td>Medium</td>\n",
       "      <td>Press</td>\n",
       "      <td>Normal</td>\n",
       "      <td>Cover</td>\n",
       "    </tr>\n",
       "  </tbody>\n",
       "</table>\n",
       "</div>"
      ],
      "text/plain": [
       "           team  games  wins  loses  draws buildupplayspeedclass  \\\n",
       "0  FC Barcelona    304   234     27     43              Balanced   \n",
       "\n",
       "  buildupplaydribblingclass buildupplaypassingclass  \\\n",
       "0                    Normal                   Mixed   \n",
       "\n",
       "  buildupplaypositioningclass chancecreationpassingclass  \\\n",
       "0                   Free Form                     Normal   \n",
       "\n",
       "  chancecreationcrossingclass chancecreationshootingclass  \\\n",
       "0                      Normal                      Normal   \n",
       "\n",
       "  chancecreationpositioningclass defencepressureclass defenceaggressionclass  \\\n",
       "0                      Free Form               Medium                  Press   \n",
       "\n",
       "  defenceteamwidthclass defencedefenderlineclass  \n",
       "0                Normal                    Cover  "
      ]
     },
     "execution_count": 25,
     "metadata": {},
     "output_type": "execute_result"
    }
   ],
   "source": [
    "df_team_attributes.head(1)"
   ]
  },
  {
   "cell_type": "markdown",
   "metadata": {},
   "source": [
    "### Exploratory Data Analysis (for the second data set \"df_team_attributes\")\n"
   ]
  },
  {
   "cell_type": "code",
   "execution_count": 26,
   "metadata": {},
   "outputs": [
    {
     "data": {
      "text/html": [
       "<div>\n",
       "<style scoped>\n",
       "    .dataframe tbody tr th:only-of-type {\n",
       "        vertical-align: middle;\n",
       "    }\n",
       "\n",
       "    .dataframe tbody tr th {\n",
       "        vertical-align: top;\n",
       "    }\n",
       "\n",
       "    .dataframe thead th {\n",
       "        text-align: right;\n",
       "    }\n",
       "</style>\n",
       "<table border=\"1\" class=\"dataframe\">\n",
       "  <thead>\n",
       "    <tr style=\"text-align: right;\">\n",
       "      <th></th>\n",
       "      <th>count</th>\n",
       "      <th>mean</th>\n",
       "      <th>std</th>\n",
       "      <th>min</th>\n",
       "      <th>25%</th>\n",
       "      <th>50%</th>\n",
       "      <th>75%</th>\n",
       "      <th>max</th>\n",
       "    </tr>\n",
       "    <tr>\n",
       "      <th>buildupplayspeedclass</th>\n",
       "      <th></th>\n",
       "      <th></th>\n",
       "      <th></th>\n",
       "      <th></th>\n",
       "      <th></th>\n",
       "      <th></th>\n",
       "      <th></th>\n",
       "      <th></th>\n",
       "    </tr>\n",
       "  </thead>\n",
       "  <tbody>\n",
       "    <tr>\n",
       "      <th>Balanced</th>\n",
       "      <td>220.0</td>\n",
       "      <td>71.772727</td>\n",
       "      <td>50.849075</td>\n",
       "      <td>3.0</td>\n",
       "      <td>27.0</td>\n",
       "      <td>65.0</td>\n",
       "      <td>105.00</td>\n",
       "      <td>234.0</td>\n",
       "    </tr>\n",
       "    <tr>\n",
       "      <th>Fast</th>\n",
       "      <td>21.0</td>\n",
       "      <td>96.523810</td>\n",
       "      <td>62.913925</td>\n",
       "      <td>7.0</td>\n",
       "      <td>42.0</td>\n",
       "      <td>87.0</td>\n",
       "      <td>157.00</td>\n",
       "      <td>185.0</td>\n",
       "    </tr>\n",
       "    <tr>\n",
       "      <th>Slow</th>\n",
       "      <td>4.0</td>\n",
       "      <td>76.250000</td>\n",
       "      <td>41.347108</td>\n",
       "      <td>22.0</td>\n",
       "      <td>55.0</td>\n",
       "      <td>87.0</td>\n",
       "      <td>108.25</td>\n",
       "      <td>109.0</td>\n",
       "    </tr>\n",
       "  </tbody>\n",
       "</table>\n",
       "</div>"
      ],
      "text/plain": [
       "                       count       mean        std   min   25%   50%     75%  \\\n",
       "buildupplayspeedclass                                                          \n",
       "Balanced               220.0  71.772727  50.849075   3.0  27.0  65.0  105.00   \n",
       "Fast                    21.0  96.523810  62.913925   7.0  42.0  87.0  157.00   \n",
       "Slow                     4.0  76.250000  41.347108  22.0  55.0  87.0  108.25   \n",
       "\n",
       "                         max  \n",
       "buildupplayspeedclass         \n",
       "Balanced               234.0  \n",
       "Fast                   185.0  \n",
       "Slow                   109.0  "
      ]
     },
     "execution_count": 26,
     "metadata": {},
     "output_type": "execute_result"
    }
   ],
   "source": [
    "df_team_attributes.groupby('buildupplayspeedclass')['wins'].describe()"
   ]
  },
  {
   "cell_type": "code",
   "execution_count": 27,
   "metadata": {
    "scrolled": true
   },
   "outputs": [
    {
     "data": {
      "image/png": "[encoded data removed]",
      "text/plain": [
       "<matplotlib.figure.Figure at 0x7f800c09c908>"
      ]
     },
     "metadata": {
      "needs_background": "light"
     },
     "output_type": "display_data"
    }
   ],
   "source": [
    "#investigating the common attributes that are associated with a higher winning rate\n",
    "df_team_attributes.groupby('buildupplayspeedclass')['wins'].mean().plot(kind = 'bar')\n",
    "plt.title('The Winning Possibility of Different Buildup Play Speed Classes', fontsize = 15)\n",
    "plt.xlabel('Buildup Play Speed Class', fontsize = 15)\n",
    "plt.ylabel('Mean Winning Rate', fontsize = 15);"
   ]
  },
  {
   "cell_type": "markdown",
   "metadata": {},
   "source": [
    "the above visualization shows that teams that adop a FAST buildup play speed class have a higher winning rate."
   ]
  },
  {
   "cell_type": "code",
   "execution_count": 28,
   "metadata": {},
   "outputs": [
    {
     "data": {
      "image/png": "[encoded data removed]",
      "text/plain": [
       "<matplotlib.figure.Figure at 0x7f7fe98dea20>"
      ]
     },
     "metadata": {
      "needs_background": "light"
     },
     "output_type": "display_data"
    }
   ],
   "source": [
    "df_team_attributes.groupby('buildupplaypassingclass')['wins'].mean().plot(kind = 'bar')\n",
    "plt.title('The Winning Possibility of Different Buildup Play Passing Classes', fontsize = 15)\n",
    "plt.xlabel('Buildup Play Passing Class', fontsize = 15)\n",
    "plt.ylabel('Mean Winning Rate', fontsize = 15);"
   ]
  },
  {
   "cell_type": "markdown",
   "metadata": {},
   "source": [
    "this visualizations shows that teams that use SHORT passes achieve a higher winning rate."
   ]
  },
  {
   "cell_type": "code",
   "execution_count": 29,
   "metadata": {
    "scrolled": true
   },
   "outputs": [
    {
     "data": {
      "image/png": "[encoded data removed]",
      "text/plain": [
       "<matplotlib.figure.Figure at 0x7f7fe9848ef0>"
      ]
     },
     "metadata": {
      "needs_background": "light"
     },
     "output_type": "display_data"
    }
   ],
   "source": [
    "df_team_attributes.groupby('chancecreationpositioningclass')['wins'].mean().plot(kind = 'bar')\n",
    "plt.title('The Winning Possibility of Different Chance Creation Positioning Classes', fontsize = 15)\n",
    "plt.xlabel('Chance Creation Positioning Class', fontsize = 15)\n",
    "plt.ylabel('Mean Winning Rate', fontsize = 15);"
   ]
  },
  {
   "cell_type": "markdown",
   "metadata": {},
   "source": [
    "Free Form Chance Creation Positioning class is associated with a higher winning rate."
   ]
  },
  {
   "cell_type": "code",
   "execution_count": 30,
   "metadata": {},
   "outputs": [
    {
     "data": {
      "image/png": "[encoded data removed]",
      "text/plain": [
       "<matplotlib.figure.Figure at 0x7f7fe9970828>"
      ]
     },
     "metadata": {
      "needs_background": "light"
     },
     "output_type": "display_data"
    }
   ],
   "source": [
    "#which modes of defending associated with a higher losing rate\n",
    "df_team_attributes.groupby('defencedefenderlineclass')['loses'].mean().plot(kind = 'bar')\n",
    "plt.title('The Efficiency of Different Defending Styles', fontsize = 15)\n",
    "plt.xlabel('Defence Defender Line Class', fontsize = 15)\n",
    "plt.ylabel('Mean losing Rate', fontsize = 15);"
   ]
  },
  {
   "cell_type": "markdown",
   "metadata": {},
   "source": [
    "this visualization shows that teams that use Offside Trap as their defending Strategy have suffered more loses than teams that used Cover strategy."
   ]
  },
  {
   "cell_type": "markdown",
   "metadata": {},
   "source": [
    "### Research Question 3  (What are the most successful teams in Europe over the time period in question?)"
   ]
  },
  {
   "cell_type": "code",
   "execution_count": 31,
   "metadata": {},
   "outputs": [],
   "source": [
    "df_team_attributes['winning_ratio'] = df_team_attributes.wins/df_team_attributes.games"
   ]
  },
  {
   "cell_type": "code",
   "execution_count": 32,
   "metadata": {
    "scrolled": false
   },
   "outputs": [
    {
     "data": {
      "text/html": [
       "<div>\n",
       "<style scoped>\n",
       "    .dataframe tbody tr th:only-of-type {\n",
       "        vertical-align: middle;\n",
       "    }\n",
       "\n",
       "    .dataframe tbody tr th {\n",
       "        vertical-align: top;\n",
       "    }\n",
       "\n",
       "    .dataframe thead th {\n",
       "        text-align: right;\n",
       "    }\n",
       "</style>\n",
       "<table border=\"1\" class=\"dataframe\">\n",
       "  <thead>\n",
       "    <tr style=\"text-align: right;\">\n",
       "      <th></th>\n",
       "      <th>team</th>\n",
       "      <th>games</th>\n",
       "      <th>wins</th>\n",
       "      <th>loses</th>\n",
       "      <th>draws</th>\n",
       "      <th>buildupplayspeedclass</th>\n",
       "      <th>buildupplaydribblingclass</th>\n",
       "      <th>buildupplaypassingclass</th>\n",
       "      <th>buildupplaypositioningclass</th>\n",
       "      <th>chancecreationpassingclass</th>\n",
       "      <th>chancecreationcrossingclass</th>\n",
       "      <th>chancecreationshootingclass</th>\n",
       "      <th>chancecreationpositioningclass</th>\n",
       "      <th>defencepressureclass</th>\n",
       "      <th>defenceaggressionclass</th>\n",
       "      <th>defenceteamwidthclass</th>\n",
       "      <th>defencedefenderlineclass</th>\n",
       "      <th>winning_ratio</th>\n",
       "    </tr>\n",
       "  </thead>\n",
       "  <tbody>\n",
       "    <tr>\n",
       "      <th>0</th>\n",
       "      <td>FC Barcelona</td>\n",
       "      <td>304</td>\n",
       "      <td>234</td>\n",
       "      <td>27</td>\n",
       "      <td>43</td>\n",
       "      <td>Balanced</td>\n",
       "      <td>Normal</td>\n",
       "      <td>Mixed</td>\n",
       "      <td>Free Form</td>\n",
       "      <td>Normal</td>\n",
       "      <td>Normal</td>\n",
       "      <td>Normal</td>\n",
       "      <td>Free Form</td>\n",
       "      <td>Medium</td>\n",
       "      <td>Press</td>\n",
       "      <td>Normal</td>\n",
       "      <td>Cover</td>\n",
       "      <td>0.769737</td>\n",
       "    </tr>\n",
       "    <tr>\n",
       "      <th>1</th>\n",
       "      <td>Real Madrid CF</td>\n",
       "      <td>304</td>\n",
       "      <td>228</td>\n",
       "      <td>40</td>\n",
       "      <td>36</td>\n",
       "      <td>Balanced</td>\n",
       "      <td>Normal</td>\n",
       "      <td>Mixed</td>\n",
       "      <td>Free Form</td>\n",
       "      <td>Normal</td>\n",
       "      <td>Normal</td>\n",
       "      <td>Normal</td>\n",
       "      <td>Free Form</td>\n",
       "      <td>Medium</td>\n",
       "      <td>Press</td>\n",
       "      <td>Normal</td>\n",
       "      <td>Cover</td>\n",
       "      <td>0.750000</td>\n",
       "    </tr>\n",
       "    <tr>\n",
       "      <th>2</th>\n",
       "      <td>Celtic</td>\n",
       "      <td>304</td>\n",
       "      <td>218</td>\n",
       "      <td>36</td>\n",
       "      <td>50</td>\n",
       "      <td>Balanced</td>\n",
       "      <td>Normal</td>\n",
       "      <td>Mixed</td>\n",
       "      <td>Organised</td>\n",
       "      <td>Normal</td>\n",
       "      <td>Normal</td>\n",
       "      <td>Normal</td>\n",
       "      <td>Organised</td>\n",
       "      <td>Medium</td>\n",
       "      <td>Press</td>\n",
       "      <td>Normal</td>\n",
       "      <td>Cover</td>\n",
       "      <td>0.717105</td>\n",
       "    </tr>\n",
       "    <tr>\n",
       "      <th>3</th>\n",
       "      <td>FC Bayern Munich</td>\n",
       "      <td>272</td>\n",
       "      <td>193</td>\n",
       "      <td>35</td>\n",
       "      <td>44</td>\n",
       "      <td>Balanced</td>\n",
       "      <td>Little</td>\n",
       "      <td>Short</td>\n",
       "      <td>Free Form</td>\n",
       "      <td>Normal</td>\n",
       "      <td>Little</td>\n",
       "      <td>Little</td>\n",
       "      <td>Free Form</td>\n",
       "      <td>High</td>\n",
       "      <td>Press</td>\n",
       "      <td>Normal</td>\n",
       "      <td>Cover</td>\n",
       "      <td>0.709559</td>\n",
       "    </tr>\n",
       "    <tr>\n",
       "      <th>4</th>\n",
       "      <td>Juventus</td>\n",
       "      <td>301</td>\n",
       "      <td>189</td>\n",
       "      <td>46</td>\n",
       "      <td>66</td>\n",
       "      <td>Balanced</td>\n",
       "      <td>Normal</td>\n",
       "      <td>Short</td>\n",
       "      <td>Organised</td>\n",
       "      <td>Normal</td>\n",
       "      <td>Normal</td>\n",
       "      <td>Lots</td>\n",
       "      <td>Organised</td>\n",
       "      <td>Medium</td>\n",
       "      <td>Press</td>\n",
       "      <td>Normal</td>\n",
       "      <td>Cover</td>\n",
       "      <td>0.627907</td>\n",
       "    </tr>\n",
       "    <tr>\n",
       "      <th>5</th>\n",
       "      <td>SL Benfica</td>\n",
       "      <td>248</td>\n",
       "      <td>185</td>\n",
       "      <td>27</td>\n",
       "      <td>36</td>\n",
       "      <td>Fast</td>\n",
       "      <td>Normal</td>\n",
       "      <td>Mixed</td>\n",
       "      <td>Organised</td>\n",
       "      <td>Normal</td>\n",
       "      <td>Normal</td>\n",
       "      <td>Normal</td>\n",
       "      <td>Organised</td>\n",
       "      <td>Medium</td>\n",
       "      <td>Press</td>\n",
       "      <td>Normal</td>\n",
       "      <td>Cover</td>\n",
       "      <td>0.745968</td>\n",
       "    </tr>\n",
       "    <tr>\n",
       "      <th>6</th>\n",
       "      <td>FC Porto</td>\n",
       "      <td>248</td>\n",
       "      <td>183</td>\n",
       "      <td>23</td>\n",
       "      <td>42</td>\n",
       "      <td>Fast</td>\n",
       "      <td>Normal</td>\n",
       "      <td>Mixed</td>\n",
       "      <td>Organised</td>\n",
       "      <td>Normal</td>\n",
       "      <td>Normal</td>\n",
       "      <td>Lots</td>\n",
       "      <td>Organised</td>\n",
       "      <td>Medium</td>\n",
       "      <td>Press</td>\n",
       "      <td>Normal</td>\n",
       "      <td>Cover</td>\n",
       "      <td>0.737903</td>\n",
       "    </tr>\n",
       "    <tr>\n",
       "      <th>7</th>\n",
       "      <td>Ajax</td>\n",
       "      <td>272</td>\n",
       "      <td>181</td>\n",
       "      <td>32</td>\n",
       "      <td>59</td>\n",
       "      <td>Balanced</td>\n",
       "      <td>Normal</td>\n",
       "      <td>Mixed</td>\n",
       "      <td>Organised</td>\n",
       "      <td>Normal</td>\n",
       "      <td>Normal</td>\n",
       "      <td>Little</td>\n",
       "      <td>Free Form</td>\n",
       "      <td>Medium</td>\n",
       "      <td>Press</td>\n",
       "      <td>Normal</td>\n",
       "      <td>Cover</td>\n",
       "      <td>0.665441</td>\n",
       "    </tr>\n",
       "    <tr>\n",
       "      <th>8</th>\n",
       "      <td>FC Basel</td>\n",
       "      <td>286</td>\n",
       "      <td>180</td>\n",
       "      <td>42</td>\n",
       "      <td>64</td>\n",
       "      <td>Balanced</td>\n",
       "      <td>Normal</td>\n",
       "      <td>Mixed</td>\n",
       "      <td>Organised</td>\n",
       "      <td>Normal</td>\n",
       "      <td>Normal</td>\n",
       "      <td>Normal</td>\n",
       "      <td>Organised</td>\n",
       "      <td>Medium</td>\n",
       "      <td>Press</td>\n",
       "      <td>Normal</td>\n",
       "      <td>Cover</td>\n",
       "      <td>0.629371</td>\n",
       "    </tr>\n",
       "    <tr>\n",
       "      <th>9</th>\n",
       "      <td>Manchester United</td>\n",
       "      <td>304</td>\n",
       "      <td>192</td>\n",
       "      <td>55</td>\n",
       "      <td>57</td>\n",
       "      <td>Balanced</td>\n",
       "      <td>Normal</td>\n",
       "      <td>Mixed</td>\n",
       "      <td>Organised</td>\n",
       "      <td>Normal</td>\n",
       "      <td>Normal</td>\n",
       "      <td>Normal</td>\n",
       "      <td>Organised</td>\n",
       "      <td>Medium</td>\n",
       "      <td>Press</td>\n",
       "      <td>Normal</td>\n",
       "      <td>Cover</td>\n",
       "      <td>0.631579</td>\n",
       "    </tr>\n",
       "  </tbody>\n",
       "</table>\n",
       "</div>"
      ],
      "text/plain": [
       "                team  games  wins  loses  draws buildupplayspeedclass  \\\n",
       "0       FC Barcelona    304   234     27     43              Balanced   \n",
       "1     Real Madrid CF    304   228     40     36              Balanced   \n",
       "2             Celtic    304   218     36     50              Balanced   \n",
       "3   FC Bayern Munich    272   193     35     44              Balanced   \n",
       "4           Juventus    301   189     46     66              Balanced   \n",
       "5         SL Benfica    248   185     27     36                  Fast   \n",
       "6           FC Porto    248   183     23     42                  Fast   \n",
       "7               Ajax    272   181     32     59              Balanced   \n",
       "8           FC Basel    286   180     42     64              Balanced   \n",
       "9  Manchester United    304   192     55     57              Balanced   \n",
       "\n",
       "  buildupplaydribblingclass buildupplaypassingclass  \\\n",
       "0                    Normal                   Mixed   \n",
       "1                    Normal                   Mixed   \n",
       "2                    Normal                   Mixed   \n",
       "3                    Little                   Short   \n",
       "4                    Normal                   Short   \n",
       "5                    Normal                   Mixed   \n",
       "6                    Normal                   Mixed   \n",
       "7                    Normal                   Mixed   \n",
       "8                    Normal                   Mixed   \n",
       "9                    Normal                   Mixed   \n",
       "\n",
       "  buildupplaypositioningclass chancecreationpassingclass  \\\n",
       "0                   Free Form                     Normal   \n",
       "1                   Free Form                     Normal   \n",
       "2                   Organised                     Normal   \n",
       "3                   Free Form                     Normal   \n",
       "4                   Organised                     Normal   \n",
       "5                   Organised                     Normal   \n",
       "6                   Organised                     Normal   \n",
       "7                   Organised                     Normal   \n",
       "8                   Organised                     Normal   \n",
       "9                   Organised                     Normal   \n",
       "\n",
       "  chancecreationcrossingclass chancecreationshootingclass  \\\n",
       "0                      Normal                      Normal   \n",
       "1                      Normal                      Normal   \n",
       "2                      Normal                      Normal   \n",
       "3                      Little                      Little   \n",
       "4                      Normal                        Lots   \n",
       "5                      Normal                      Normal   \n",
       "6                      Normal                        Lots   \n",
       "7                      Normal                      Little   \n",
       "8                      Normal                      Normal   \n",
       "9                      Normal                      Normal   \n",
       "\n",
       "  chancecreationpositioningclass defencepressureclass defenceaggressionclass  \\\n",
       "0                      Free Form               Medium                  Press   \n",
       "1                      Free Form               Medium                  Press   \n",
       "2                      Organised               Medium                  Press   \n",
       "3                      Free Form                 High                  Press   \n",
       "4                      Organised               Medium                  Press   \n",
       "5                      Organised               Medium                  Press   \n",
       "6                      Organised               Medium                  Press   \n",
       "7                      Free Form               Medium                  Press   \n",
       "8                      Organised               Medium                  Press   \n",
       "9                      Organised               Medium                  Press   \n",
       "\n",
       "  defenceteamwidthclass defencedefenderlineclass  winning_ratio  \n",
       "0                Normal                    Cover       0.769737  \n",
       "1                Normal                    Cover       0.750000  \n",
       "2                Normal                    Cover       0.717105  \n",
       "3                Normal                    Cover       0.709559  \n",
       "4                Normal                    Cover       0.627907  \n",
       "5                Normal                    Cover       0.745968  \n",
       "6                Normal                    Cover       0.737903  \n",
       "7                Normal                    Cover       0.665441  \n",
       "8                Normal                    Cover       0.629371  \n",
       "9                Normal                    Cover       0.631579  "
      ]
     },
     "execution_count": 32,
     "metadata": {},
     "output_type": "execute_result"
    }
   ],
   "source": [
    "df_team_attributes.head(10)"
   ]
  },
  {
   "cell_type": "code",
   "execution_count": 33,
   "metadata": {},
   "outputs": [
    {
     "data": {
      "text/html": [
       "<div>\n",
       "<style scoped>\n",
       "    .dataframe tbody tr th:only-of-type {\n",
       "        vertical-align: middle;\n",
       "    }\n",
       "\n",
       "    .dataframe tbody tr th {\n",
       "        vertical-align: top;\n",
       "    }\n",
       "\n",
       "    .dataframe thead th {\n",
       "        text-align: right;\n",
       "    }\n",
       "</style>\n",
       "<table border=\"1\" class=\"dataframe\">\n",
       "  <thead>\n",
       "    <tr style=\"text-align: right;\">\n",
       "      <th></th>\n",
       "      <th>games</th>\n",
       "      <th>wins</th>\n",
       "      <th>loses</th>\n",
       "      <th>draws</th>\n",
       "      <th>winning_ratio</th>\n",
       "    </tr>\n",
       "  </thead>\n",
       "  <tbody>\n",
       "    <tr>\n",
       "      <th>count</th>\n",
       "      <td>245.000000</td>\n",
       "      <td>245.000000</td>\n",
       "      <td>245.000000</td>\n",
       "      <td>245.000000</td>\n",
       "      <td>245.000000</td>\n",
       "    </tr>\n",
       "    <tr>\n",
       "      <th>mean</th>\n",
       "      <td>192.510204</td>\n",
       "      <td>73.967347</td>\n",
       "      <td>69.787755</td>\n",
       "      <td>48.755102</td>\n",
       "      <td>0.344558</td>\n",
       "    </tr>\n",
       "    <tr>\n",
       "      <th>std</th>\n",
       "      <td>92.388019</td>\n",
       "      <td>52.099752</td>\n",
       "      <td>32.429050</td>\n",
       "      <td>24.172307</td>\n",
       "      <td>0.130877</td>\n",
       "    </tr>\n",
       "    <tr>\n",
       "      <th>min</th>\n",
       "      <td>34.000000</td>\n",
       "      <td>3.000000</td>\n",
       "      <td>14.000000</td>\n",
       "      <td>4.000000</td>\n",
       "      <td>0.078947</td>\n",
       "    </tr>\n",
       "    <tr>\n",
       "      <th>25%</th>\n",
       "      <td>114.000000</td>\n",
       "      <td>27.000000</td>\n",
       "      <td>44.000000</td>\n",
       "      <td>30.000000</td>\n",
       "      <td>0.258555</td>\n",
       "    </tr>\n",
       "    <tr>\n",
       "      <th>50%</th>\n",
       "      <td>212.000000</td>\n",
       "      <td>67.000000</td>\n",
       "      <td>71.000000</td>\n",
       "      <td>52.000000</td>\n",
       "      <td>0.319079</td>\n",
       "    </tr>\n",
       "    <tr>\n",
       "      <th>75%</th>\n",
       "      <td>272.000000</td>\n",
       "      <td>107.000000</td>\n",
       "      <td>95.000000</td>\n",
       "      <td>69.000000</td>\n",
       "      <td>0.398026</td>\n",
       "    </tr>\n",
       "    <tr>\n",
       "      <th>max</th>\n",
       "      <td>304.000000</td>\n",
       "      <td>234.000000</td>\n",
       "      <td>142.000000</td>\n",
       "      <td>100.000000</td>\n",
       "      <td>0.769737</td>\n",
       "    </tr>\n",
       "  </tbody>\n",
       "</table>\n",
       "</div>"
      ],
      "text/plain": [
       "            games        wins       loses       draws  winning_ratio\n",
       "count  245.000000  245.000000  245.000000  245.000000     245.000000\n",
       "mean   192.510204   73.967347   69.787755   48.755102       0.344558\n",
       "std     92.388019   52.099752   32.429050   24.172307       0.130877\n",
       "min     34.000000    3.000000   14.000000    4.000000       0.078947\n",
       "25%    114.000000   27.000000   44.000000   30.000000       0.258555\n",
       "50%    212.000000   67.000000   71.000000   52.000000       0.319079\n",
       "75%    272.000000  107.000000   95.000000   69.000000       0.398026\n",
       "max    304.000000  234.000000  142.000000  100.000000       0.769737"
      ]
     },
     "execution_count": 33,
     "metadata": {},
     "output_type": "execute_result"
    }
   ],
   "source": [
    "df_team_attributes.describe()"
   ]
  },
  {
   "cell_type": "code",
   "execution_count": 95,
   "metadata": {
    "scrolled": true
   },
   "outputs": [
    {
     "data": {
      "image/png": "[encoded data removed]",
      "text/plain": [
       "<matplotlib.figure.Figure at 0x7f7fe83d3668>"
      ]
     },
     "metadata": {
      "needs_background": "light"
     },
     "output_type": "display_data"
    }
   ],
   "source": [
    "#the distribution of teams' winning ratios\n",
    "df_team_attributes['winning_ratio'].hist()\n",
    "plt.title('Distribution of Winning ratio')\n",
    "plt.xlabel('Winning ratio')\n",
    "plt.ylabel('Frequency');"
   ]
  },
  {
   "cell_type": "markdown",
   "metadata": {},
   "source": [
    "the distribution shows that most teams have a winning ratio between 0.25 and 0.39."
   ]
  },
  {
   "cell_type": "code",
   "execution_count": 35,
   "metadata": {},
   "outputs": [],
   "source": [
    "df_team_attributes.sort_values('winning_ratio', ascending = False, inplace = True)"
   ]
  },
  {
   "cell_type": "code",
   "execution_count": 36,
   "metadata": {},
   "outputs": [
    {
     "data": {
      "image/png": "[encoded data removed]",
      "text/plain": [
       "<matplotlib.figure.Figure at 0x7f7fe9994860>"
      ]
     },
     "metadata": {
      "needs_background": "light"
     },
     "output_type": "display_data"
    }
   ],
   "source": [
    "loc = np.arange(len(df_team_attributes.head(4)))\n",
    "winning_ratio = df_team_attributes.winning_ratio.head(4)\n",
    "plt.bar(loc, winning_ratio)\n",
    "labels = df_team_attributes.team.head(4).values.tolist()\n",
    "plt.xticks(loc, labels)\n",
    "plt.title(\"The Winning Ratio of Europe's Most Successful Teams\")\n",
    "plt.xlabel('Team')\n",
    "plt.ylabel('Winning Ratio');"
   ]
  },
  {
   "cell_type": "markdown",
   "metadata": {},
   "source": [
    "FC Barcelona has achieved the highest winning rate in Europe over the time period in question."
   ]
  },
  {
   "cell_type": "markdown",
   "metadata": {},
   "source": [
    "### Research Question 4  (Who are the top players  in Europe over the time period in question?)"
   ]
  },
  {
   "cell_type": "code",
   "execution_count": 37,
   "metadata": {
    "scrolled": true
   },
   "outputs": [
    {
     "data": {
      "text/html": [
       "<div>\n",
       "<style scoped>\n",
       "    .dataframe tbody tr th:only-of-type {\n",
       "        vertical-align: middle;\n",
       "    }\n",
       "\n",
       "    .dataframe tbody tr th {\n",
       "        vertical-align: top;\n",
       "    }\n",
       "\n",
       "    .dataframe thead th {\n",
       "        text-align: right;\n",
       "    }\n",
       "</style>\n",
       "<table border=\"1\" class=\"dataframe\">\n",
       "  <thead>\n",
       "    <tr style=\"text-align: right;\">\n",
       "      <th></th>\n",
       "      <th>id</th>\n",
       "      <th>player_api_id</th>\n",
       "      <th>player_name</th>\n",
       "      <th>player_fifa_api_id</th>\n",
       "      <th>birthday</th>\n",
       "      <th>height</th>\n",
       "      <th>weight</th>\n",
       "      <th>id.1</th>\n",
       "      <th>player_fifa_api_id.1</th>\n",
       "      <th>player_api_id.1</th>\n",
       "      <th>...</th>\n",
       "      <th>vision</th>\n",
       "      <th>penalties</th>\n",
       "      <th>marking</th>\n",
       "      <th>standing_tackle</th>\n",
       "      <th>sliding_tackle</th>\n",
       "      <th>gk_diving</th>\n",
       "      <th>gk_handling</th>\n",
       "      <th>gk_kicking</th>\n",
       "      <th>gk_positioning</th>\n",
       "      <th>gk_reflexes</th>\n",
       "    </tr>\n",
       "  </thead>\n",
       "  <tbody>\n",
       "    <tr>\n",
       "      <th>0</th>\n",
       "      <td>1</td>\n",
       "      <td>505942</td>\n",
       "      <td>Aaron Appindangoye</td>\n",
       "      <td>218353</td>\n",
       "      <td>1992-02-29 00:00:00</td>\n",
       "      <td>182.88</td>\n",
       "      <td>187</td>\n",
       "      <td>1</td>\n",
       "      <td>218353</td>\n",
       "      <td>505942</td>\n",
       "      <td>...</td>\n",
       "      <td>54.0</td>\n",
       "      <td>48.0</td>\n",
       "      <td>65.0</td>\n",
       "      <td>69.0</td>\n",
       "      <td>69.0</td>\n",
       "      <td>6.0</td>\n",
       "      <td>11.0</td>\n",
       "      <td>10.0</td>\n",
       "      <td>8.0</td>\n",
       "      <td>8.0</td>\n",
       "    </tr>\n",
       "  </tbody>\n",
       "</table>\n",
       "<p>1 rows × 49 columns</p>\n",
       "</div>"
      ],
      "text/plain": [
       "   id  player_api_id         player_name  player_fifa_api_id  \\\n",
       "0   1         505942  Aaron Appindangoye              218353   \n",
       "\n",
       "              birthday  height  weight  id.1  player_fifa_api_id.1  \\\n",
       "0  1992-02-29 00:00:00  182.88     187     1                218353   \n",
       "\n",
       "   player_api_id.1     ...      vision  penalties  marking standing_tackle  \\\n",
       "0           505942     ...        54.0       48.0     65.0            69.0   \n",
       "\n",
       "  sliding_tackle gk_diving  gk_handling  gk_kicking  gk_positioning  \\\n",
       "0           69.0       6.0         11.0        10.0             8.0   \n",
       "\n",
       "   gk_reflexes  \n",
       "0          8.0  \n",
       "\n",
       "[1 rows x 49 columns]"
      ]
     },
     "execution_count": 37,
     "metadata": {},
     "output_type": "execute_result"
    }
   ],
   "source": [
    "# to answer this question, I will import another data set that is extracted from the soccer database.\n",
    "df_player_attributes = pd.read_csv('player_attributes.csv')\n",
    "df_player_attributes.head(1)"
   ]
  },
  {
   "cell_type": "markdown",
   "metadata": {},
   "source": [
    "there are some unnecessary columns that should be removed.\n",
    "I also need to change the datatype of the date and the birthday columns"
   ]
  },
  {
   "cell_type": "code",
   "execution_count": 38,
   "metadata": {},
   "outputs": [
    {
     "data": {
      "text/plain": [
       "(186345, 49)"
      ]
     },
     "execution_count": 38,
     "metadata": {},
     "output_type": "execute_result"
    }
   ],
   "source": [
    "df_player_attributes.shape"
   ]
  },
  {
   "cell_type": "code",
   "execution_count": 39,
   "metadata": {
    "scrolled": true
   },
   "outputs": [
    {
     "name": "stdout",
     "output_type": "stream",
     "text": [
      "<class 'pandas.core.frame.DataFrame'>\n",
      "RangeIndex: 186345 entries, 0 to 186344\n",
      "Data columns (total 49 columns):\n",
      "id                      186345 non-null int64\n",
      "player_api_id           186345 non-null int64\n",
      "player_name             186345 non-null object\n",
      "player_fifa_api_id      186345 non-null int64\n",
      "birthday                186345 non-null object\n",
      "height                  186345 non-null float64\n",
      "weight                  186345 non-null int64\n",
      "id.1                    186345 non-null int64\n",
      "player_fifa_api_id.1    186345 non-null int64\n",
      "player_api_id.1         186345 non-null int64\n",
      "date                    186345 non-null object\n",
      "overall_rating          185502 non-null float64\n",
      "potential               185502 non-null float64\n",
      "preferred_foot          185502 non-null object\n",
      "attacking_work_rate     183057 non-null object\n",
      "defensive_work_rate     185502 non-null object\n",
      "crossing                185502 non-null float64\n",
      "finishing               185501 non-null float64\n",
      "heading_accuracy        185501 non-null float64\n",
      "short_passing           185501 non-null float64\n",
      "volleys                 183585 non-null float64\n",
      "dribbling               185501 non-null float64\n",
      "curve                   183585 non-null float64\n",
      "free_kick_accuracy      185501 non-null float64\n",
      "long_passing            185501 non-null float64\n",
      "ball_control            185501 non-null float64\n",
      "acceleration            185501 non-null float64\n",
      "sprint_speed            185501 non-null float64\n",
      "agility                 183585 non-null float64\n",
      "reactions               185501 non-null float64\n",
      "balance                 183585 non-null float64\n",
      "shot_power              185501 non-null float64\n",
      "jumping                 183585 non-null float64\n",
      "stamina                 185501 non-null float64\n",
      "strength                185501 non-null float64\n",
      "long_shots              185501 non-null float64\n",
      "aggression              185501 non-null float64\n",
      "interceptions           185501 non-null float64\n",
      "positioning             185501 non-null float64\n",
      "vision                  183585 non-null float64\n",
      "penalties               185501 non-null float64\n",
      "marking                 185501 non-null float64\n",
      "standing_tackle         185501 non-null float64\n",
      "sliding_tackle          183585 non-null float64\n",
      "gk_diving               185501 non-null float64\n",
      "gk_handling             185501 non-null float64\n",
      "gk_kicking              185501 non-null float64\n",
      "gk_positioning          185501 non-null float64\n",
      "gk_reflexes             185501 non-null float64\n",
      "dtypes: float64(36), int64(7), object(6)\n",
      "memory usage: 69.7+ MB\n"
     ]
    }
   ],
   "source": [
    "df_player_attributes.info()"
   ]
  },
  {
   "cell_type": "markdown",
   "metadata": {},
   "source": [
    "some columns contain Null values"
   ]
  },
  {
   "cell_type": "code",
   "execution_count": 40,
   "metadata": {},
   "outputs": [
    {
     "data": {
      "text/html": [
       "<div>\n",
       "<style scoped>\n",
       "    .dataframe tbody tr th:only-of-type {\n",
       "        vertical-align: middle;\n",
       "    }\n",
       "\n",
       "    .dataframe tbody tr th {\n",
       "        vertical-align: top;\n",
       "    }\n",
       "\n",
       "    .dataframe thead th {\n",
       "        text-align: right;\n",
       "    }\n",
       "</style>\n",
       "<table border=\"1\" class=\"dataframe\">\n",
       "  <thead>\n",
       "    <tr style=\"text-align: right;\">\n",
       "      <th></th>\n",
       "      <th>id</th>\n",
       "      <th>player_api_id</th>\n",
       "      <th>player_fifa_api_id</th>\n",
       "      <th>height</th>\n",
       "      <th>weight</th>\n",
       "      <th>id.1</th>\n",
       "      <th>player_fifa_api_id.1</th>\n",
       "      <th>player_api_id.1</th>\n",
       "      <th>overall_rating</th>\n",
       "      <th>potential</th>\n",
       "      <th>...</th>\n",
       "      <th>vision</th>\n",
       "      <th>penalties</th>\n",
       "      <th>marking</th>\n",
       "      <th>standing_tackle</th>\n",
       "      <th>sliding_tackle</th>\n",
       "      <th>gk_diving</th>\n",
       "      <th>gk_handling</th>\n",
       "      <th>gk_kicking</th>\n",
       "      <th>gk_positioning</th>\n",
       "      <th>gk_reflexes</th>\n",
       "    </tr>\n",
       "  </thead>\n",
       "  <tbody>\n",
       "    <tr>\n",
       "      <th>count</th>\n",
       "      <td>186345.000000</td>\n",
       "      <td>186345.000000</td>\n",
       "      <td>186345.000000</td>\n",
       "      <td>186345.000000</td>\n",
       "      <td>186345.000000</td>\n",
       "      <td>186345.000000</td>\n",
       "      <td>186345.000000</td>\n",
       "      <td>186345.000000</td>\n",
       "      <td>185502.000000</td>\n",
       "      <td>185502.000000</td>\n",
       "      <td>...</td>\n",
       "      <td>183585.000000</td>\n",
       "      <td>185501.000000</td>\n",
       "      <td>185501.000000</td>\n",
       "      <td>185501.000000</td>\n",
       "      <td>183585.000000</td>\n",
       "      <td>185501.000000</td>\n",
       "      <td>185501.000000</td>\n",
       "      <td>185501.000000</td>\n",
       "      <td>185501.000000</td>\n",
       "      <td>185501.000000</td>\n",
       "    </tr>\n",
       "    <tr>\n",
       "      <th>mean</th>\n",
       "      <td>5589.696429</td>\n",
       "      <td>136048.102385</td>\n",
       "      <td>165674.064880</td>\n",
       "      <td>181.868324</td>\n",
       "      <td>168.776050</td>\n",
       "      <td>93141.959366</td>\n",
       "      <td>165708.855719</td>\n",
       "      <td>136048.102342</td>\n",
       "      <td>68.603864</td>\n",
       "      <td>73.471936</td>\n",
       "      <td>...</td>\n",
       "      <td>57.880470</td>\n",
       "      <td>55.010464</td>\n",
       "      <td>46.737004</td>\n",
       "      <td>50.314327</td>\n",
       "      <td>47.968107</td>\n",
       "      <td>14.713171</td>\n",
       "      <td>16.069380</td>\n",
       "      <td>21.012879</td>\n",
       "      <td>16.140010</td>\n",
       "      <td>16.446499</td>\n",
       "    </tr>\n",
       "    <tr>\n",
       "      <th>std</th>\n",
       "      <td>3229.847401</td>\n",
       "      <td>136894.830540</td>\n",
       "      <td>53844.881164</td>\n",
       "      <td>6.406903</td>\n",
       "      <td>15.099601</td>\n",
       "      <td>53742.568593</td>\n",
       "      <td>53839.124044</td>\n",
       "      <td>136894.830583</td>\n",
       "      <td>7.042905</td>\n",
       "      <td>6.593306</td>\n",
       "      <td>...</td>\n",
       "      <td>15.160135</td>\n",
       "      <td>15.555047</td>\n",
       "      <td>21.234183</td>\n",
       "      <td>21.495599</td>\n",
       "      <td>21.605876</td>\n",
       "      <td>16.870038</td>\n",
       "      <td>15.865005</td>\n",
       "      <td>21.459189</td>\n",
       "      <td>16.100312</td>\n",
       "      <td>17.199067</td>\n",
       "    </tr>\n",
       "    <tr>\n",
       "      <th>min</th>\n",
       "      <td>1.000000</td>\n",
       "      <td>77.000000</td>\n",
       "      <td>2.000000</td>\n",
       "      <td>64.000000</td>\n",
       "      <td>39.000000</td>\n",
       "      <td>1.000000</td>\n",
       "      <td>2.000000</td>\n",
       "      <td>69.000000</td>\n",
       "      <td>33.000000</td>\n",
       "      <td>14.000000</td>\n",
       "      <td>...</td>\n",
       "      <td>1.000000</td>\n",
       "      <td>2.000000</td>\n",
       "      <td>1.000000</td>\n",
       "      <td>1.000000</td>\n",
       "      <td>2.000000</td>\n",
       "      <td>1.000000</td>\n",
       "      <td>1.000000</td>\n",
       "      <td>1.000000</td>\n",
       "      <td>1.000000</td>\n",
       "      <td>1.000000</td>\n",
       "    </tr>\n",
       "    <tr>\n",
       "      <th>25%</th>\n",
       "      <td>2794.000000</td>\n",
       "      <td>34942.000000</td>\n",
       "      <td>155798.000000</td>\n",
       "      <td>177.800000</td>\n",
       "      <td>159.000000</td>\n",
       "      <td>46586.000000</td>\n",
       "      <td>155835.000000</td>\n",
       "      <td>34942.000000</td>\n",
       "      <td>64.000000</td>\n",
       "      <td>69.000000</td>\n",
       "      <td>...</td>\n",
       "      <td>49.000000</td>\n",
       "      <td>45.000000</td>\n",
       "      <td>25.000000</td>\n",
       "      <td>29.000000</td>\n",
       "      <td>25.000000</td>\n",
       "      <td>7.000000</td>\n",
       "      <td>8.000000</td>\n",
       "      <td>8.000000</td>\n",
       "      <td>8.000000</td>\n",
       "      <td>8.000000</td>\n",
       "    </tr>\n",
       "    <tr>\n",
       "      <th>50%</th>\n",
       "      <td>5618.000000</td>\n",
       "      <td>78404.000000</td>\n",
       "      <td>183488.000000</td>\n",
       "      <td>182.880000</td>\n",
       "      <td>168.000000</td>\n",
       "      <td>93172.000000</td>\n",
       "      <td>183498.000000</td>\n",
       "      <td>78404.000000</td>\n",
       "      <td>69.000000</td>\n",
       "      <td>74.000000</td>\n",
       "      <td>...</td>\n",
       "      <td>60.000000</td>\n",
       "      <td>57.000000</td>\n",
       "      <td>50.000000</td>\n",
       "      <td>56.000000</td>\n",
       "      <td>53.000000</td>\n",
       "      <td>10.000000</td>\n",
       "      <td>11.000000</td>\n",
       "      <td>12.000000</td>\n",
       "      <td>11.000000</td>\n",
       "      <td>11.000000</td>\n",
       "    </tr>\n",
       "    <tr>\n",
       "      <th>75%</th>\n",
       "      <td>8365.000000</td>\n",
       "      <td>191136.000000</td>\n",
       "      <td>199837.000000</td>\n",
       "      <td>185.420000</td>\n",
       "      <td>179.000000</td>\n",
       "      <td>139758.000000</td>\n",
       "      <td>199845.000000</td>\n",
       "      <td>191136.000000</td>\n",
       "      <td>73.000000</td>\n",
       "      <td>78.000000</td>\n",
       "      <td>...</td>\n",
       "      <td>69.000000</td>\n",
       "      <td>67.000000</td>\n",
       "      <td>66.000000</td>\n",
       "      <td>69.000000</td>\n",
       "      <td>67.000000</td>\n",
       "      <td>13.000000</td>\n",
       "      <td>15.000000</td>\n",
       "      <td>15.000000</td>\n",
       "      <td>15.000000</td>\n",
       "      <td>15.000000</td>\n",
       "    </tr>\n",
       "    <tr>\n",
       "      <th>max</th>\n",
       "      <td>11075.000000</td>\n",
       "      <td>750584.000000</td>\n",
       "      <td>234141.000000</td>\n",
       "      <td>208.280000</td>\n",
       "      <td>243.000000</td>\n",
       "      <td>183978.000000</td>\n",
       "      <td>234141.000000</td>\n",
       "      <td>750584.000000</td>\n",
       "      <td>94.000000</td>\n",
       "      <td>97.000000</td>\n",
       "      <td>...</td>\n",
       "      <td>97.000000</td>\n",
       "      <td>96.000000</td>\n",
       "      <td>96.000000</td>\n",
       "      <td>95.000000</td>\n",
       "      <td>95.000000</td>\n",
       "      <td>94.000000</td>\n",
       "      <td>93.000000</td>\n",
       "      <td>97.000000</td>\n",
       "      <td>96.000000</td>\n",
       "      <td>96.000000</td>\n",
       "    </tr>\n",
       "  </tbody>\n",
       "</table>\n",
       "<p>8 rows × 43 columns</p>\n",
       "</div>"
      ],
      "text/plain": [
       "                  id  player_api_id  player_fifa_api_id         height  \\\n",
       "count  186345.000000  186345.000000       186345.000000  186345.000000   \n",
       "mean     5589.696429  136048.102385       165674.064880     181.868324   \n",
       "std      3229.847401  136894.830540        53844.881164       6.406903   \n",
       "min         1.000000      77.000000            2.000000      64.000000   \n",
       "25%      2794.000000   34942.000000       155798.000000     177.800000   \n",
       "50%      5618.000000   78404.000000       183488.000000     182.880000   \n",
       "75%      8365.000000  191136.000000       199837.000000     185.420000   \n",
       "max     11075.000000  750584.000000       234141.000000     208.280000   \n",
       "\n",
       "              weight           id.1  player_fifa_api_id.1  player_api_id.1  \\\n",
       "count  186345.000000  186345.000000         186345.000000    186345.000000   \n",
       "mean      168.776050   93141.959366         165708.855719    136048.102342   \n",
       "std        15.099601   53742.568593          53839.124044    136894.830583   \n",
       "min        39.000000       1.000000              2.000000        69.000000   \n",
       "25%       159.000000   46586.000000         155835.000000     34942.000000   \n",
       "50%       168.000000   93172.000000         183498.000000     78404.000000   \n",
       "75%       179.000000  139758.000000         199845.000000    191136.000000   \n",
       "max       243.000000  183978.000000         234141.000000    750584.000000   \n",
       "\n",
       "       overall_rating      potential      ...               vision  \\\n",
       "count   185502.000000  185502.000000      ...        183585.000000   \n",
       "mean        68.603864      73.471936      ...            57.880470   \n",
       "std          7.042905       6.593306      ...            15.160135   \n",
       "min         33.000000      14.000000      ...             1.000000   \n",
       "25%         64.000000      69.000000      ...            49.000000   \n",
       "50%         69.000000      74.000000      ...            60.000000   \n",
       "75%         73.000000      78.000000      ...            69.000000   \n",
       "max         94.000000      97.000000      ...            97.000000   \n",
       "\n",
       "           penalties        marking  standing_tackle  sliding_tackle  \\\n",
       "count  185501.000000  185501.000000    185501.000000   183585.000000   \n",
       "mean       55.010464      46.737004        50.314327       47.968107   \n",
       "std        15.555047      21.234183        21.495599       21.605876   \n",
       "min         2.000000       1.000000         1.000000        2.000000   \n",
       "25%        45.000000      25.000000        29.000000       25.000000   \n",
       "50%        57.000000      50.000000        56.000000       53.000000   \n",
       "75%        67.000000      66.000000        69.000000       67.000000   \n",
       "max        96.000000      96.000000        95.000000       95.000000   \n",
       "\n",
       "           gk_diving    gk_handling     gk_kicking  gk_positioning  \\\n",
       "count  185501.000000  185501.000000  185501.000000   185501.000000   \n",
       "mean       14.713171      16.069380      21.012879       16.140010   \n",
       "std        16.870038      15.865005      21.459189       16.100312   \n",
       "min         1.000000       1.000000       1.000000        1.000000   \n",
       "25%         7.000000       8.000000       8.000000        8.000000   \n",
       "50%        10.000000      11.000000      12.000000       11.000000   \n",
       "75%        13.000000      15.000000      15.000000       15.000000   \n",
       "max        94.000000      93.000000      97.000000       96.000000   \n",
       "\n",
       "         gk_reflexes  \n",
       "count  185501.000000  \n",
       "mean       16.446499  \n",
       "std        17.199067  \n",
       "min         1.000000  \n",
       "25%         8.000000  \n",
       "50%        11.000000  \n",
       "75%        15.000000  \n",
       "max        96.000000  \n",
       "\n",
       "[8 rows x 43 columns]"
      ]
     },
     "execution_count": 40,
     "metadata": {},
     "output_type": "execute_result"
    }
   ],
   "source": [
    "df_player_attributes.describe()"
   ]
  },
  {
   "cell_type": "markdown",
   "metadata": {},
   "source": [
    "### Data Cleaning "
   ]
  },
  {
   "cell_type": "code",
   "execution_count": 41,
   "metadata": {
    "scrolled": true
   },
   "outputs": [
    {
     "data": {
      "text/html": [
       "<div>\n",
       "<style scoped>\n",
       "    .dataframe tbody tr th:only-of-type {\n",
       "        vertical-align: middle;\n",
       "    }\n",
       "\n",
       "    .dataframe tbody tr th {\n",
       "        vertical-align: top;\n",
       "    }\n",
       "\n",
       "    .dataframe thead th {\n",
       "        text-align: right;\n",
       "    }\n",
       "</style>\n",
       "<table border=\"1\" class=\"dataframe\">\n",
       "  <thead>\n",
       "    <tr style=\"text-align: right;\">\n",
       "      <th></th>\n",
       "      <th>id</th>\n",
       "      <th>player_api_id</th>\n",
       "      <th>player_name</th>\n",
       "      <th>player_fifa_api_id</th>\n",
       "      <th>birthday</th>\n",
       "      <th>height</th>\n",
       "      <th>weight</th>\n",
       "      <th>id.1</th>\n",
       "      <th>player_fifa_api_id.1</th>\n",
       "      <th>player_api_id.1</th>\n",
       "      <th>...</th>\n",
       "      <th>vision</th>\n",
       "      <th>penalties</th>\n",
       "      <th>marking</th>\n",
       "      <th>standing_tackle</th>\n",
       "      <th>sliding_tackle</th>\n",
       "      <th>gk_diving</th>\n",
       "      <th>gk_handling</th>\n",
       "      <th>gk_kicking</th>\n",
       "      <th>gk_positioning</th>\n",
       "      <th>gk_reflexes</th>\n",
       "    </tr>\n",
       "  </thead>\n",
       "  <tbody>\n",
       "    <tr>\n",
       "      <th>0</th>\n",
       "      <td>1</td>\n",
       "      <td>505942</td>\n",
       "      <td>Aaron Appindangoye</td>\n",
       "      <td>218353</td>\n",
       "      <td>1992-02-29 00:00:00</td>\n",
       "      <td>182.88</td>\n",
       "      <td>187</td>\n",
       "      <td>1</td>\n",
       "      <td>218353</td>\n",
       "      <td>505942</td>\n",
       "      <td>...</td>\n",
       "      <td>54.0</td>\n",
       "      <td>48.0</td>\n",
       "      <td>65.0</td>\n",
       "      <td>69.0</td>\n",
       "      <td>69.0</td>\n",
       "      <td>6.0</td>\n",
       "      <td>11.0</td>\n",
       "      <td>10.0</td>\n",
       "      <td>8.0</td>\n",
       "      <td>8.0</td>\n",
       "    </tr>\n",
       "  </tbody>\n",
       "</table>\n",
       "<p>1 rows × 49 columns</p>\n",
       "</div>"
      ],
      "text/plain": [
       "   id  player_api_id         player_name  player_fifa_api_id  \\\n",
       "0   1         505942  Aaron Appindangoye              218353   \n",
       "\n",
       "              birthday  height  weight  id.1  player_fifa_api_id.1  \\\n",
       "0  1992-02-29 00:00:00  182.88     187     1                218353   \n",
       "\n",
       "   player_api_id.1     ...      vision  penalties  marking standing_tackle  \\\n",
       "0           505942     ...        54.0       48.0     65.0            69.0   \n",
       "\n",
       "  sliding_tackle gk_diving  gk_handling  gk_kicking  gk_positioning  \\\n",
       "0           69.0       6.0         11.0        10.0             8.0   \n",
       "\n",
       "   gk_reflexes  \n",
       "0          8.0  \n",
       "\n",
       "[1 rows x 49 columns]"
      ]
     },
     "execution_count": 41,
     "metadata": {},
     "output_type": "execute_result"
    }
   ],
   "source": [
    "df_player_attributes.head(1)"
   ]
  },
  {
   "cell_type": "code",
   "execution_count": 42,
   "metadata": {},
   "outputs": [],
   "source": [
    "#removing unnecessary columns\n",
    "df_player_attributes.drop(columns = ['id', 'player_api_id', 'player_fifa_api_id', 'id.1', 'player_fifa_api_id.1','player_api_id.1'], inplace = True)"
   ]
  },
  {
   "cell_type": "code",
   "execution_count": 43,
   "metadata": {},
   "outputs": [
    {
     "data": {
      "text/plain": [
       "player_name               0\n",
       "birthday                  0\n",
       "height                    0\n",
       "weight                    0\n",
       "date                      0\n",
       "overall_rating          843\n",
       "potential               843\n",
       "preferred_foot          843\n",
       "attacking_work_rate    3288\n",
       "defensive_work_rate     843\n",
       "crossing                843\n",
       "finishing               844\n",
       "heading_accuracy        844\n",
       "short_passing           844\n",
       "volleys                2760\n",
       "dribbling               844\n",
       "curve                  2760\n",
       "free_kick_accuracy      844\n",
       "long_passing            844\n",
       "ball_control            844\n",
       "acceleration            844\n",
       "sprint_speed            844\n",
       "agility                2760\n",
       "reactions               844\n",
       "balance                2760\n",
       "shot_power              844\n",
       "jumping                2760\n",
       "stamina                 844\n",
       "strength                844\n",
       "long_shots              844\n",
       "aggression              844\n",
       "interceptions           844\n",
       "positioning             844\n",
       "vision                 2760\n",
       "penalties               844\n",
       "marking                 844\n",
       "standing_tackle         844\n",
       "sliding_tackle         2760\n",
       "gk_diving               844\n",
       "gk_handling             844\n",
       "gk_kicking              844\n",
       "gk_positioning          844\n",
       "gk_reflexes             844\n",
       "dtype: int64"
      ]
     },
     "execution_count": 43,
     "metadata": {},
     "output_type": "execute_result"
    }
   ],
   "source": [
    "#finding Nulls\n",
    "df_player_attributes.isnull().sum()"
   ]
  },
  {
   "cell_type": "code",
   "execution_count": 44,
   "metadata": {},
   "outputs": [],
   "source": [
    "#removing Null values\n",
    "df_player_attributes.dropna(inplace = True)"
   ]
  },
  {
   "cell_type": "code",
   "execution_count": 45,
   "metadata": {},
   "outputs": [],
   "source": [
    "#changing the data type of birthday and date columns\n",
    "df_player_attributes['birthday'] = pd.to_datetime(df_player_attributes['birthday'])\n",
    "df_player_attributes['date'] = pd.to_datetime(df_player_attributes['date'])"
   ]
  },
  {
   "cell_type": "code",
   "execution_count": 46,
   "metadata": {
    "scrolled": true
   },
   "outputs": [
    {
     "data": {
      "text/html": [
       "<div>\n",
       "<style scoped>\n",
       "    .dataframe tbody tr th:only-of-type {\n",
       "        vertical-align: middle;\n",
       "    }\n",
       "\n",
       "    .dataframe tbody tr th {\n",
       "        vertical-align: top;\n",
       "    }\n",
       "\n",
       "    .dataframe thead th {\n",
       "        text-align: right;\n",
       "    }\n",
       "</style>\n",
       "<table border=\"1\" class=\"dataframe\">\n",
       "  <thead>\n",
       "    <tr style=\"text-align: right;\">\n",
       "      <th></th>\n",
       "      <th>player_name</th>\n",
       "      <th>birthday</th>\n",
       "      <th>height</th>\n",
       "      <th>weight</th>\n",
       "      <th>date</th>\n",
       "      <th>overall_rating</th>\n",
       "      <th>potential</th>\n",
       "      <th>preferred_foot</th>\n",
       "      <th>attacking_work_rate</th>\n",
       "      <th>defensive_work_rate</th>\n",
       "      <th>...</th>\n",
       "      <th>vision</th>\n",
       "      <th>penalties</th>\n",
       "      <th>marking</th>\n",
       "      <th>standing_tackle</th>\n",
       "      <th>sliding_tackle</th>\n",
       "      <th>gk_diving</th>\n",
       "      <th>gk_handling</th>\n",
       "      <th>gk_kicking</th>\n",
       "      <th>gk_positioning</th>\n",
       "      <th>gk_reflexes</th>\n",
       "    </tr>\n",
       "  </thead>\n",
       "  <tbody>\n",
       "    <tr>\n",
       "      <th>0</th>\n",
       "      <td>Aaron Appindangoye</td>\n",
       "      <td>1992-02-29</td>\n",
       "      <td>182.88</td>\n",
       "      <td>187</td>\n",
       "      <td>2016-02-18</td>\n",
       "      <td>67.0</td>\n",
       "      <td>71.0</td>\n",
       "      <td>right</td>\n",
       "      <td>medium</td>\n",
       "      <td>medium</td>\n",
       "      <td>...</td>\n",
       "      <td>54.0</td>\n",
       "      <td>48.0</td>\n",
       "      <td>65.0</td>\n",
       "      <td>69.0</td>\n",
       "      <td>69.0</td>\n",
       "      <td>6.0</td>\n",
       "      <td>11.0</td>\n",
       "      <td>10.0</td>\n",
       "      <td>8.0</td>\n",
       "      <td>8.0</td>\n",
       "    </tr>\n",
       "  </tbody>\n",
       "</table>\n",
       "<p>1 rows × 43 columns</p>\n",
       "</div>"
      ],
      "text/plain": [
       "          player_name   birthday  height  weight       date  overall_rating  \\\n",
       "0  Aaron Appindangoye 1992-02-29  182.88     187 2016-02-18            67.0   \n",
       "\n",
       "   potential preferred_foot attacking_work_rate defensive_work_rate  \\\n",
       "0       71.0          right              medium              medium   \n",
       "\n",
       "      ...       vision  penalties  marking  standing_tackle  sliding_tackle  \\\n",
       "0     ...         54.0       48.0     65.0             69.0            69.0   \n",
       "\n",
       "   gk_diving  gk_handling  gk_kicking  gk_positioning  gk_reflexes  \n",
       "0        6.0         11.0        10.0             8.0          8.0  \n",
       "\n",
       "[1 rows x 43 columns]"
      ]
     },
     "execution_count": 46,
     "metadata": {},
     "output_type": "execute_result"
    }
   ],
   "source": [
    "df_player_attributes.head(1)"
   ]
  },
  {
   "cell_type": "markdown",
   "metadata": {},
   "source": [
    "### Exploratory Data Analysis (for the third data set \"df_player_attributes\")"
   ]
  },
  {
   "cell_type": "code",
   "execution_count": 96,
   "metadata": {
    "scrolled": true
   },
   "outputs": [
    {
     "data": {
      "image/png": "[encoded data removed]",
      "text/plain": [
       "<matplotlib.figure.Figure at 0x7f7fe8380b70>"
      ]
     },
     "metadata": {
      "needs_background": "light"
     },
     "output_type": "display_data"
    }
   ],
   "source": [
    "df_player_attributes.plot(x = 'potential', y = 'overall_rating', kind = 'scatter')\n",
    "plt.title('Potential Vs Overall rating')\n",
    "plt.xlabel('potential')\n",
    "plt.ylabel('overall rating');"
   ]
  },
  {
   "cell_type": "markdown",
   "metadata": {},
   "source": [
    "there is a positive correlation between potential and overall rating"
   ]
  },
  {
   "cell_type": "code",
   "execution_count": 98,
   "metadata": {
    "scrolled": true
   },
   "outputs": [
    {
     "data": {
      "image/png": "[encoded data removed]",
      "text/plain": [
       "<matplotlib.figure.Figure at 0x7f7fe858ae80>"
      ]
     },
     "metadata": {
      "needs_background": "light"
     },
     "output_type": "display_data"
    }
   ],
   "source": [
    "df_player_attributes.plot(x = 'overall_rating', y = 'penalties', kind = 'scatter')\n",
    "plt.title('Overall rating Vs Penalties')\n",
    "plt.xlabel('overall rating')\n",
    "plt.ylabel('penalties');"
   ]
  },
  {
   "cell_type": "markdown",
   "metadata": {},
   "source": [
    "there is a positive correlation between overall rating and the ability to score penalties"
   ]
  },
  {
   "cell_type": "code",
   "execution_count": 49,
   "metadata": {},
   "outputs": [
    {
     "data": {
      "image/png": "[encoded data removed]",
      "text/plain": [
       "<matplotlib.figure.Figure at 0x7f7fe96a8e10>"
      ]
     },
     "metadata": {
      "needs_background": "light"
     },
     "output_type": "display_data"
    }
   ],
   "source": [
    "#representing the relationship between overall rating and pentalies using kernel density estimation\n",
    "sns.jointplot(x='overall_rating', y=\"penalties\", data=df_player_attributes, kind=\"kde\");\n",
    "#as the previous visualization, it also shows a positive correlation between a player's overall rating and his ability to successfully take penalties."
   ]
  },
  {
   "cell_type": "code",
   "execution_count": 50,
   "metadata": {
    "scrolled": true
   },
   "outputs": [
    {
     "data": {
      "text/html": [
       "<div>\n",
       "<style scoped>\n",
       "    .dataframe tbody tr th:only-of-type {\n",
       "        vertical-align: middle;\n",
       "    }\n",
       "\n",
       "    .dataframe tbody tr th {\n",
       "        vertical-align: top;\n",
       "    }\n",
       "\n",
       "    .dataframe thead th {\n",
       "        text-align: right;\n",
       "    }\n",
       "</style>\n",
       "<table border=\"1\" class=\"dataframe\">\n",
       "  <thead>\n",
       "    <tr style=\"text-align: right;\">\n",
       "      <th></th>\n",
       "      <th>height</th>\n",
       "      <th>weight</th>\n",
       "      <th>overall_rating</th>\n",
       "      <th>potential</th>\n",
       "      <th>crossing</th>\n",
       "      <th>finishing</th>\n",
       "      <th>heading_accuracy</th>\n",
       "      <th>short_passing</th>\n",
       "      <th>volleys</th>\n",
       "      <th>dribbling</th>\n",
       "      <th>...</th>\n",
       "      <th>vision</th>\n",
       "      <th>penalties</th>\n",
       "      <th>marking</th>\n",
       "      <th>standing_tackle</th>\n",
       "      <th>sliding_tackle</th>\n",
       "      <th>gk_diving</th>\n",
       "      <th>gk_handling</th>\n",
       "      <th>gk_kicking</th>\n",
       "      <th>gk_positioning</th>\n",
       "      <th>gk_reflexes</th>\n",
       "    </tr>\n",
       "  </thead>\n",
       "  <tbody>\n",
       "    <tr>\n",
       "      <th>count</th>\n",
       "      <td>182652.000000</td>\n",
       "      <td>182652.000000</td>\n",
       "      <td>182652.000000</td>\n",
       "      <td>182652.000000</td>\n",
       "      <td>182652.000000</td>\n",
       "      <td>182652.000000</td>\n",
       "      <td>182652.000000</td>\n",
       "      <td>182652.000000</td>\n",
       "      <td>182652.000000</td>\n",
       "      <td>182652.000000</td>\n",
       "      <td>...</td>\n",
       "      <td>182652.000000</td>\n",
       "      <td>182652.000000</td>\n",
       "      <td>182652.000000</td>\n",
       "      <td>182652.000000</td>\n",
       "      <td>182652.000000</td>\n",
       "      <td>182652.000000</td>\n",
       "      <td>182652.000000</td>\n",
       "      <td>182652.000000</td>\n",
       "      <td>182652.000000</td>\n",
       "      <td>182652.000000</td>\n",
       "    </tr>\n",
       "    <tr>\n",
       "      <th>mean</th>\n",
       "      <td>181.868586</td>\n",
       "      <td>168.776997</td>\n",
       "      <td>68.638438</td>\n",
       "      <td>73.490934</td>\n",
       "      <td>55.157009</td>\n",
       "      <td>49.979360</td>\n",
       "      <td>57.237775</td>\n",
       "      <td>62.494843</td>\n",
       "      <td>49.515609</td>\n",
       "      <td>59.294407</td>\n",
       "      <td>...</td>\n",
       "      <td>57.874658</td>\n",
       "      <td>54.937718</td>\n",
       "      <td>46.720184</td>\n",
       "      <td>50.315102</td>\n",
       "      <td>47.993419</td>\n",
       "      <td>14.705889</td>\n",
       "      <td>15.952724</td>\n",
       "      <td>20.534968</td>\n",
       "      <td>16.022223</td>\n",
       "      <td>16.329671</td>\n",
       "    </tr>\n",
       "    <tr>\n",
       "      <th>std</th>\n",
       "      <td>6.403832</td>\n",
       "      <td>15.105610</td>\n",
       "      <td>7.030421</td>\n",
       "      <td>6.581946</td>\n",
       "      <td>17.259233</td>\n",
       "      <td>19.051233</td>\n",
       "      <td>16.483746</td>\n",
       "      <td>14.184672</td>\n",
       "      <td>18.262078</td>\n",
       "      <td>17.759662</td>\n",
       "      <td>...</td>\n",
       "      <td>15.169217</td>\n",
       "      <td>15.565891</td>\n",
       "      <td>21.233710</td>\n",
       "      <td>21.509301</td>\n",
       "      <td>21.600515</td>\n",
       "      <td>16.846423</td>\n",
       "      <td>15.839335</td>\n",
       "      <td>21.145439</td>\n",
       "      <td>16.072445</td>\n",
       "      <td>17.186983</td>\n",
       "    </tr>\n",
       "    <tr>\n",
       "      <th>min</th>\n",
       "      <td>157.480000</td>\n",
       "      <td>117.000000</td>\n",
       "      <td>33.000000</td>\n",
       "      <td>39.000000</td>\n",
       "      <td>1.000000</td>\n",
       "      <td>1.000000</td>\n",
       "      <td>1.000000</td>\n",
       "      <td>3.000000</td>\n",
       "      <td>1.000000</td>\n",
       "      <td>1.000000</td>\n",
       "      <td>...</td>\n",
       "      <td>1.000000</td>\n",
       "      <td>2.000000</td>\n",
       "      <td>1.000000</td>\n",
       "      <td>1.000000</td>\n",
       "      <td>2.000000</td>\n",
       "      <td>1.000000</td>\n",
       "      <td>1.000000</td>\n",
       "      <td>1.000000</td>\n",
       "      <td>1.000000</td>\n",
       "      <td>1.000000</td>\n",
       "    </tr>\n",
       "    <tr>\n",
       "      <th>25%</th>\n",
       "      <td>177.800000</td>\n",
       "      <td>159.000000</td>\n",
       "      <td>64.000000</td>\n",
       "      <td>69.000000</td>\n",
       "      <td>45.000000</td>\n",
       "      <td>34.000000</td>\n",
       "      <td>49.000000</td>\n",
       "      <td>57.000000</td>\n",
       "      <td>35.000000</td>\n",
       "      <td>52.000000</td>\n",
       "      <td>...</td>\n",
       "      <td>49.000000</td>\n",
       "      <td>45.000000</td>\n",
       "      <td>25.000000</td>\n",
       "      <td>29.000000</td>\n",
       "      <td>25.000000</td>\n",
       "      <td>7.000000</td>\n",
       "      <td>8.000000</td>\n",
       "      <td>8.000000</td>\n",
       "      <td>8.000000</td>\n",
       "      <td>8.000000</td>\n",
       "    </tr>\n",
       "    <tr>\n",
       "      <th>50%</th>\n",
       "      <td>182.880000</td>\n",
       "      <td>168.000000</td>\n",
       "      <td>69.000000</td>\n",
       "      <td>74.000000</td>\n",
       "      <td>59.000000</td>\n",
       "      <td>53.000000</td>\n",
       "      <td>60.000000</td>\n",
       "      <td>65.000000</td>\n",
       "      <td>52.000000</td>\n",
       "      <td>64.000000</td>\n",
       "      <td>...</td>\n",
       "      <td>60.000000</td>\n",
       "      <td>57.000000</td>\n",
       "      <td>50.000000</td>\n",
       "      <td>56.000000</td>\n",
       "      <td>53.000000</td>\n",
       "      <td>10.000000</td>\n",
       "      <td>11.000000</td>\n",
       "      <td>12.000000</td>\n",
       "      <td>11.000000</td>\n",
       "      <td>11.000000</td>\n",
       "    </tr>\n",
       "    <tr>\n",
       "      <th>75%</th>\n",
       "      <td>185.420000</td>\n",
       "      <td>179.000000</td>\n",
       "      <td>73.000000</td>\n",
       "      <td>78.000000</td>\n",
       "      <td>68.000000</td>\n",
       "      <td>65.000000</td>\n",
       "      <td>68.000000</td>\n",
       "      <td>72.000000</td>\n",
       "      <td>64.000000</td>\n",
       "      <td>72.000000</td>\n",
       "      <td>...</td>\n",
       "      <td>69.000000</td>\n",
       "      <td>67.000000</td>\n",
       "      <td>66.000000</td>\n",
       "      <td>69.000000</td>\n",
       "      <td>67.000000</td>\n",
       "      <td>13.000000</td>\n",
       "      <td>15.000000</td>\n",
       "      <td>15.000000</td>\n",
       "      <td>15.000000</td>\n",
       "      <td>15.000000</td>\n",
       "    </tr>\n",
       "    <tr>\n",
       "      <th>max</th>\n",
       "      <td>208.280000</td>\n",
       "      <td>243.000000</td>\n",
       "      <td>94.000000</td>\n",
       "      <td>97.000000</td>\n",
       "      <td>95.000000</td>\n",
       "      <td>97.000000</td>\n",
       "      <td>98.000000</td>\n",
       "      <td>97.000000</td>\n",
       "      <td>93.000000</td>\n",
       "      <td>97.000000</td>\n",
       "      <td>...</td>\n",
       "      <td>97.000000</td>\n",
       "      <td>96.000000</td>\n",
       "      <td>94.000000</td>\n",
       "      <td>95.000000</td>\n",
       "      <td>95.000000</td>\n",
       "      <td>94.000000</td>\n",
       "      <td>93.000000</td>\n",
       "      <td>97.000000</td>\n",
       "      <td>96.000000</td>\n",
       "      <td>96.000000</td>\n",
       "    </tr>\n",
       "  </tbody>\n",
       "</table>\n",
       "<p>8 rows × 37 columns</p>\n",
       "</div>"
      ],
      "text/plain": [
       "              height         weight  overall_rating      potential  \\\n",
       "count  182652.000000  182652.000000   182652.000000  182652.000000   \n",
       "mean      181.868586     168.776997       68.638438      73.490934   \n",
       "std         6.403832      15.105610        7.030421       6.581946   \n",
       "min       157.480000     117.000000       33.000000      39.000000   \n",
       "25%       177.800000     159.000000       64.000000      69.000000   \n",
       "50%       182.880000     168.000000       69.000000      74.000000   \n",
       "75%       185.420000     179.000000       73.000000      78.000000   \n",
       "max       208.280000     243.000000       94.000000      97.000000   \n",
       "\n",
       "            crossing      finishing  heading_accuracy  short_passing  \\\n",
       "count  182652.000000  182652.000000     182652.000000  182652.000000   \n",
       "mean       55.157009      49.979360         57.237775      62.494843   \n",
       "std        17.259233      19.051233         16.483746      14.184672   \n",
       "min         1.000000       1.000000          1.000000       3.000000   \n",
       "25%        45.000000      34.000000         49.000000      57.000000   \n",
       "50%        59.000000      53.000000         60.000000      65.000000   \n",
       "75%        68.000000      65.000000         68.000000      72.000000   \n",
       "max        95.000000      97.000000         98.000000      97.000000   \n",
       "\n",
       "             volleys      dribbling      ...               vision  \\\n",
       "count  182652.000000  182652.000000      ...        182652.000000   \n",
       "mean       49.515609      59.294407      ...            57.874658   \n",
       "std        18.262078      17.759662      ...            15.169217   \n",
       "min         1.000000       1.000000      ...             1.000000   \n",
       "25%        35.000000      52.000000      ...            49.000000   \n",
       "50%        52.000000      64.000000      ...            60.000000   \n",
       "75%        64.000000      72.000000      ...            69.000000   \n",
       "max        93.000000      97.000000      ...            97.000000   \n",
       "\n",
       "           penalties        marking  standing_tackle  sliding_tackle  \\\n",
       "count  182652.000000  182652.000000    182652.000000   182652.000000   \n",
       "mean       54.937718      46.720184        50.315102       47.993419   \n",
       "std        15.565891      21.233710        21.509301       21.600515   \n",
       "min         2.000000       1.000000         1.000000        2.000000   \n",
       "25%        45.000000      25.000000        29.000000       25.000000   \n",
       "50%        57.000000      50.000000        56.000000       53.000000   \n",
       "75%        67.000000      66.000000        69.000000       67.000000   \n",
       "max        96.000000      94.000000        95.000000       95.000000   \n",
       "\n",
       "           gk_diving    gk_handling     gk_kicking  gk_positioning  \\\n",
       "count  182652.000000  182652.000000  182652.000000   182652.000000   \n",
       "mean       14.705889      15.952724      20.534968       16.022223   \n",
       "std        16.846423      15.839335      21.145439       16.072445   \n",
       "min         1.000000       1.000000       1.000000        1.000000   \n",
       "25%         7.000000       8.000000       8.000000        8.000000   \n",
       "50%        10.000000      11.000000      12.000000       11.000000   \n",
       "75%        13.000000      15.000000      15.000000       15.000000   \n",
       "max        94.000000      93.000000      97.000000       96.000000   \n",
       "\n",
       "         gk_reflexes  \n",
       "count  182652.000000  \n",
       "mean       16.329671  \n",
       "std        17.186983  \n",
       "min         1.000000  \n",
       "25%         8.000000  \n",
       "50%        11.000000  \n",
       "75%        15.000000  \n",
       "max        96.000000  \n",
       "\n",
       "[8 rows x 37 columns]"
      ]
     },
     "execution_count": 50,
     "metadata": {},
     "output_type": "execute_result"
    }
   ],
   "source": [
    "df_player_attributes.describe()"
   ]
  },
  {
   "cell_type": "code",
   "execution_count": 103,
   "metadata": {},
   "outputs": [
    {
     "data": {
      "image/png": "[encoded data removed]",
      "text/plain": [
       "<matplotlib.figure.Figure at 0x7f7fe86b5ac8>"
      ]
     },
     "metadata": {
      "needs_background": "light"
     },
     "output_type": "display_data"
    }
   ],
   "source": [
    "df_player_attributes['height'].hist(bins = 20)\n",
    "plt.title(\"Distribution of player's heights\")\n",
    "plt.xlabel('Height')\n",
    "plt.ylabel('Frequency');"
   ]
  },
  {
   "cell_type": "markdown",
   "metadata": {},
   "source": [
    "the height data is normally distributed and it looks like most players fall into a height range of (177 - 185)"
   ]
  },
  {
   "cell_type": "code",
   "execution_count": 109,
   "metadata": {},
   "outputs": [
    {
     "data": {
      "image/png": "[encoded data removed]",
      "text/plain": [
       "<matplotlib.figure.Figure at 0x7f7fe81ded30>"
      ]
     },
     "metadata": {
      "needs_background": "light"
     },
     "output_type": "display_data"
    }
   ],
   "source": [
    "#the distribution of players' weight\n",
    "df_player_attributes['weight'].hist(bins = 20)\n",
    "plt.title(\"Distribution of players' weight\")\n",
    "plt.xlabel('weight')\n",
    "plt.ylabel('Frequency');"
   ]
  },
  {
   "cell_type": "markdown",
   "metadata": {},
   "source": [
    "it looks like most players fall into a weight range of (159 - 179)"
   ]
  },
  {
   "cell_type": "code",
   "execution_count": 105,
   "metadata": {},
   "outputs": [
    {
     "data": {
      "image/png": "[encoded data removed]",
      "text/plain": [
       "<matplotlib.figure.Figure at 0x7f7fe85ff748>"
      ]
     },
     "metadata": {
      "needs_background": "light"
     },
     "output_type": "display_data"
    }
   ],
   "source": [
    "#the distribution of players' overall rating\n",
    "df_player_attributes['overall_rating'].hist(bins = 20)\n",
    "plt.title(\"Distribution of players' overall ratings\")\n",
    "plt.xlabel('overall rating')\n",
    "plt.ylabel('Frequency');"
   ]
  },
  {
   "cell_type": "markdown",
   "metadata": {},
   "source": [
    "the distribution is normally distributed and it seems that most players have an overall rating between 64-73."
   ]
  },
  {
   "cell_type": "code",
   "execution_count": 54,
   "metadata": {},
   "outputs": [],
   "source": [
    "#the top players in Europe over the time period in question\n",
    "df_player_attributes.sort_values('overall_rating', ascending = False, inplace = True)"
   ]
  },
  {
   "cell_type": "code",
   "execution_count": 55,
   "metadata": {
    "scrolled": true
   },
   "outputs": [
    {
     "data": {
      "image/png": "[encoded data removed]",
      "text/plain": [
       "<matplotlib.figure.Figure at 0x7f7fe95350b8>"
      ]
     },
     "metadata": {
      "needs_background": "light"
     },
     "output_type": "display_data"
    }
   ],
   "source": [
    "top_players = df_player_attributes.groupby('player_name')['overall_rating'].mean().sort_values(ascending = False)\n",
    "top_players.head(10).plot(kind = 'bar')\n",
    "plt.title(\"Europe's Highest Rated Players\")\n",
    "plt.xlabel('Player')\n",
    "plt.ylabel('Mean Overall Rating');"
   ]
  },
  {
   "cell_type": "markdown",
   "metadata": {},
   "source": [
    "Lionel Messi is the highest rated player in Europe throughout the time range of question."
   ]
  },
  {
   "cell_type": "markdown",
   "metadata": {},
   "source": [
    "### Research Question 5  (Who are the most prolific penalty takers in Europe?)"
   ]
  },
  {
   "cell_type": "code",
   "execution_count": 56,
   "metadata": {},
   "outputs": [
    {
     "data": {
      "image/png": "[encoded data removed]",
      "text/plain": [
       "<matplotlib.figure.Figure at 0x7f7fe96f9d30>"
      ]
     },
     "metadata": {
      "needs_background": "light"
     },
     "output_type": "display_data"
    }
   ],
   "source": [
    "df_player_attributes.groupby('player_name')['penalties'].mean().sort_values(ascending = False).head(10).plot(kind = 'bar')\n",
    "plt.title('Most Prolific Penalty Takers in Europe')\n",
    "plt.xlabel('player')\n",
    "plt.ylabel('Average Penalties');"
   ]
  },
  {
   "cell_type": "markdown",
   "metadata": {},
   "source": [
    "Mario Baloteli is the most prolific penalty taker in Europe throughout the time period in question."
   ]
  },
  {
   "cell_type": "markdown",
   "metadata": {},
   "source": [
    "### Research Question 6  (What are the attributes associated with different levels of footballers?)"
   ]
  },
  {
   "cell_type": "code",
   "execution_count": 57,
   "metadata": {
    "scrolled": true
   },
   "outputs": [
    {
     "data": {
      "text/html": [
       "<div>\n",
       "<style scoped>\n",
       "    .dataframe tbody tr th:only-of-type {\n",
       "        vertical-align: middle;\n",
       "    }\n",
       "\n",
       "    .dataframe tbody tr th {\n",
       "        vertical-align: top;\n",
       "    }\n",
       "\n",
       "    .dataframe thead th {\n",
       "        text-align: right;\n",
       "    }\n",
       "</style>\n",
       "<table border=\"1\" class=\"dataframe\">\n",
       "  <thead>\n",
       "    <tr style=\"text-align: right;\">\n",
       "      <th></th>\n",
       "      <th>height</th>\n",
       "      <th>weight</th>\n",
       "      <th>overall_rating</th>\n",
       "      <th>potential</th>\n",
       "      <th>crossing</th>\n",
       "      <th>finishing</th>\n",
       "      <th>heading_accuracy</th>\n",
       "      <th>short_passing</th>\n",
       "      <th>volleys</th>\n",
       "      <th>dribbling</th>\n",
       "      <th>...</th>\n",
       "      <th>vision</th>\n",
       "      <th>penalties</th>\n",
       "      <th>marking</th>\n",
       "      <th>standing_tackle</th>\n",
       "      <th>sliding_tackle</th>\n",
       "      <th>gk_diving</th>\n",
       "      <th>gk_handling</th>\n",
       "      <th>gk_kicking</th>\n",
       "      <th>gk_positioning</th>\n",
       "      <th>gk_reflexes</th>\n",
       "    </tr>\n",
       "  </thead>\n",
       "  <tbody>\n",
       "    <tr>\n",
       "      <th>count</th>\n",
       "      <td>182652.000000</td>\n",
       "      <td>182652.000000</td>\n",
       "      <td>182652.000000</td>\n",
       "      <td>182652.000000</td>\n",
       "      <td>182652.000000</td>\n",
       "      <td>182652.000000</td>\n",
       "      <td>182652.000000</td>\n",
       "      <td>182652.000000</td>\n",
       "      <td>182652.000000</td>\n",
       "      <td>182652.000000</td>\n",
       "      <td>...</td>\n",
       "      <td>182652.000000</td>\n",
       "      <td>182652.000000</td>\n",
       "      <td>182652.000000</td>\n",
       "      <td>182652.000000</td>\n",
       "      <td>182652.000000</td>\n",
       "      <td>182652.000000</td>\n",
       "      <td>182652.000000</td>\n",
       "      <td>182652.000000</td>\n",
       "      <td>182652.000000</td>\n",
       "      <td>182652.000000</td>\n",
       "    </tr>\n",
       "    <tr>\n",
       "      <th>mean</th>\n",
       "      <td>181.868586</td>\n",
       "      <td>168.776997</td>\n",
       "      <td>68.638438</td>\n",
       "      <td>73.490934</td>\n",
       "      <td>55.157009</td>\n",
       "      <td>49.979360</td>\n",
       "      <td>57.237775</td>\n",
       "      <td>62.494843</td>\n",
       "      <td>49.515609</td>\n",
       "      <td>59.294407</td>\n",
       "      <td>...</td>\n",
       "      <td>57.874658</td>\n",
       "      <td>54.937718</td>\n",
       "      <td>46.720184</td>\n",
       "      <td>50.315102</td>\n",
       "      <td>47.993419</td>\n",
       "      <td>14.705889</td>\n",
       "      <td>15.952724</td>\n",
       "      <td>20.534968</td>\n",
       "      <td>16.022223</td>\n",
       "      <td>16.329671</td>\n",
       "    </tr>\n",
       "    <tr>\n",
       "      <th>std</th>\n",
       "      <td>6.403832</td>\n",
       "      <td>15.105610</td>\n",
       "      <td>7.030421</td>\n",
       "      <td>6.581946</td>\n",
       "      <td>17.259233</td>\n",
       "      <td>19.051233</td>\n",
       "      <td>16.483746</td>\n",
       "      <td>14.184672</td>\n",
       "      <td>18.262078</td>\n",
       "      <td>17.759662</td>\n",
       "      <td>...</td>\n",
       "      <td>15.169217</td>\n",
       "      <td>15.565891</td>\n",
       "      <td>21.233710</td>\n",
       "      <td>21.509301</td>\n",
       "      <td>21.600515</td>\n",
       "      <td>16.846423</td>\n",
       "      <td>15.839335</td>\n",
       "      <td>21.145439</td>\n",
       "      <td>16.072445</td>\n",
       "      <td>17.186983</td>\n",
       "    </tr>\n",
       "    <tr>\n",
       "      <th>min</th>\n",
       "      <td>157.480000</td>\n",
       "      <td>117.000000</td>\n",
       "      <td>33.000000</td>\n",
       "      <td>39.000000</td>\n",
       "      <td>1.000000</td>\n",
       "      <td>1.000000</td>\n",
       "      <td>1.000000</td>\n",
       "      <td>3.000000</td>\n",
       "      <td>1.000000</td>\n",
       "      <td>1.000000</td>\n",
       "      <td>...</td>\n",
       "      <td>1.000000</td>\n",
       "      <td>2.000000</td>\n",
       "      <td>1.000000</td>\n",
       "      <td>1.000000</td>\n",
       "      <td>2.000000</td>\n",
       "      <td>1.000000</td>\n",
       "      <td>1.000000</td>\n",
       "      <td>1.000000</td>\n",
       "      <td>1.000000</td>\n",
       "      <td>1.000000</td>\n",
       "    </tr>\n",
       "    <tr>\n",
       "      <th>25%</th>\n",
       "      <td>177.800000</td>\n",
       "      <td>159.000000</td>\n",
       "      <td>64.000000</td>\n",
       "      <td>69.000000</td>\n",
       "      <td>45.000000</td>\n",
       "      <td>34.000000</td>\n",
       "      <td>49.000000</td>\n",
       "      <td>57.000000</td>\n",
       "      <td>35.000000</td>\n",
       "      <td>52.000000</td>\n",
       "      <td>...</td>\n",
       "      <td>49.000000</td>\n",
       "      <td>45.000000</td>\n",
       "      <td>25.000000</td>\n",
       "      <td>29.000000</td>\n",
       "      <td>25.000000</td>\n",
       "      <td>7.000000</td>\n",
       "      <td>8.000000</td>\n",
       "      <td>8.000000</td>\n",
       "      <td>8.000000</td>\n",
       "      <td>8.000000</td>\n",
       "    </tr>\n",
       "    <tr>\n",
       "      <th>50%</th>\n",
       "      <td>182.880000</td>\n",
       "      <td>168.000000</td>\n",
       "      <td>69.000000</td>\n",
       "      <td>74.000000</td>\n",
       "      <td>59.000000</td>\n",
       "      <td>53.000000</td>\n",
       "      <td>60.000000</td>\n",
       "      <td>65.000000</td>\n",
       "      <td>52.000000</td>\n",
       "      <td>64.000000</td>\n",
       "      <td>...</td>\n",
       "      <td>60.000000</td>\n",
       "      <td>57.000000</td>\n",
       "      <td>50.000000</td>\n",
       "      <td>56.000000</td>\n",
       "      <td>53.000000</td>\n",
       "      <td>10.000000</td>\n",
       "      <td>11.000000</td>\n",
       "      <td>12.000000</td>\n",
       "      <td>11.000000</td>\n",
       "      <td>11.000000</td>\n",
       "    </tr>\n",
       "    <tr>\n",
       "      <th>75%</th>\n",
       "      <td>185.420000</td>\n",
       "      <td>179.000000</td>\n",
       "      <td>73.000000</td>\n",
       "      <td>78.000000</td>\n",
       "      <td>68.000000</td>\n",
       "      <td>65.000000</td>\n",
       "      <td>68.000000</td>\n",
       "      <td>72.000000</td>\n",
       "      <td>64.000000</td>\n",
       "      <td>72.000000</td>\n",
       "      <td>...</td>\n",
       "      <td>69.000000</td>\n",
       "      <td>67.000000</td>\n",
       "      <td>66.000000</td>\n",
       "      <td>69.000000</td>\n",
       "      <td>67.000000</td>\n",
       "      <td>13.000000</td>\n",
       "      <td>15.000000</td>\n",
       "      <td>15.000000</td>\n",
       "      <td>15.000000</td>\n",
       "      <td>15.000000</td>\n",
       "    </tr>\n",
       "    <tr>\n",
       "      <th>max</th>\n",
       "      <td>208.280000</td>\n",
       "      <td>243.000000</td>\n",
       "      <td>94.000000</td>\n",
       "      <td>97.000000</td>\n",
       "      <td>95.000000</td>\n",
       "      <td>97.000000</td>\n",
       "      <td>98.000000</td>\n",
       "      <td>97.000000</td>\n",
       "      <td>93.000000</td>\n",
       "      <td>97.000000</td>\n",
       "      <td>...</td>\n",
       "      <td>97.000000</td>\n",
       "      <td>96.000000</td>\n",
       "      <td>94.000000</td>\n",
       "      <td>95.000000</td>\n",
       "      <td>95.000000</td>\n",
       "      <td>94.000000</td>\n",
       "      <td>93.000000</td>\n",
       "      <td>97.000000</td>\n",
       "      <td>96.000000</td>\n",
       "      <td>96.000000</td>\n",
       "    </tr>\n",
       "  </tbody>\n",
       "</table>\n",
       "<p>8 rows × 37 columns</p>\n",
       "</div>"
      ],
      "text/plain": [
       "              height         weight  overall_rating      potential  \\\n",
       "count  182652.000000  182652.000000   182652.000000  182652.000000   \n",
       "mean      181.868586     168.776997       68.638438      73.490934   \n",
       "std         6.403832      15.105610        7.030421       6.581946   \n",
       "min       157.480000     117.000000       33.000000      39.000000   \n",
       "25%       177.800000     159.000000       64.000000      69.000000   \n",
       "50%       182.880000     168.000000       69.000000      74.000000   \n",
       "75%       185.420000     179.000000       73.000000      78.000000   \n",
       "max       208.280000     243.000000       94.000000      97.000000   \n",
       "\n",
       "            crossing      finishing  heading_accuracy  short_passing  \\\n",
       "count  182652.000000  182652.000000     182652.000000  182652.000000   \n",
       "mean       55.157009      49.979360         57.237775      62.494843   \n",
       "std        17.259233      19.051233         16.483746      14.184672   \n",
       "min         1.000000       1.000000          1.000000       3.000000   \n",
       "25%        45.000000      34.000000         49.000000      57.000000   \n",
       "50%        59.000000      53.000000         60.000000      65.000000   \n",
       "75%        68.000000      65.000000         68.000000      72.000000   \n",
       "max        95.000000      97.000000         98.000000      97.000000   \n",
       "\n",
       "             volleys      dribbling      ...               vision  \\\n",
       "count  182652.000000  182652.000000      ...        182652.000000   \n",
       "mean       49.515609      59.294407      ...            57.874658   \n",
       "std        18.262078      17.759662      ...            15.169217   \n",
       "min         1.000000       1.000000      ...             1.000000   \n",
       "25%        35.000000      52.000000      ...            49.000000   \n",
       "50%        52.000000      64.000000      ...            60.000000   \n",
       "75%        64.000000      72.000000      ...            69.000000   \n",
       "max        93.000000      97.000000      ...            97.000000   \n",
       "\n",
       "           penalties        marking  standing_tackle  sliding_tackle  \\\n",
       "count  182652.000000  182652.000000    182652.000000   182652.000000   \n",
       "mean       54.937718      46.720184        50.315102       47.993419   \n",
       "std        15.565891      21.233710        21.509301       21.600515   \n",
       "min         2.000000       1.000000         1.000000        2.000000   \n",
       "25%        45.000000      25.000000        29.000000       25.000000   \n",
       "50%        57.000000      50.000000        56.000000       53.000000   \n",
       "75%        67.000000      66.000000        69.000000       67.000000   \n",
       "max        96.000000      94.000000        95.000000       95.000000   \n",
       "\n",
       "           gk_diving    gk_handling     gk_kicking  gk_positioning  \\\n",
       "count  182652.000000  182652.000000  182652.000000   182652.000000   \n",
       "mean       14.705889      15.952724      20.534968       16.022223   \n",
       "std        16.846423      15.839335      21.145439       16.072445   \n",
       "min         1.000000       1.000000       1.000000        1.000000   \n",
       "25%         7.000000       8.000000       8.000000        8.000000   \n",
       "50%        10.000000      11.000000      12.000000       11.000000   \n",
       "75%        13.000000      15.000000      15.000000       15.000000   \n",
       "max        94.000000      93.000000      97.000000       96.000000   \n",
       "\n",
       "         gk_reflexes  \n",
       "count  182652.000000  \n",
       "mean       16.329671  \n",
       "std        17.186983  \n",
       "min         1.000000  \n",
       "25%         8.000000  \n",
       "50%        11.000000  \n",
       "75%        15.000000  \n",
       "max        96.000000  \n",
       "\n",
       "[8 rows x 37 columns]"
      ]
     },
     "execution_count": 57,
     "metadata": {},
     "output_type": "execute_result"
    }
   ],
   "source": [
    "#creating a new column for \"Professional_level\"\n",
    "df_player_attributes.describe()"
   ]
  },
  {
   "cell_type": "code",
   "execution_count": 58,
   "metadata": {},
   "outputs": [],
   "source": [
    "bins = [33.000000, 64.000000, 69.000000, 73.000000, 94.000000]\n",
    "bin_names = ['rockie', 'intermediate_level', 'top level', 'world class']\n",
    "df_player_attributes['professional_level'] = pd.cut(df_player_attributes.overall_rating, bins, labels= bin_names)"
   ]
  },
  {
   "cell_type": "code",
   "execution_count": 59,
   "metadata": {
    "scrolled": true
   },
   "outputs": [
    {
     "data": {
      "text/html": [
       "<div>\n",
       "<style scoped>\n",
       "    .dataframe tbody tr th:only-of-type {\n",
       "        vertical-align: middle;\n",
       "    }\n",
       "\n",
       "    .dataframe tbody tr th {\n",
       "        vertical-align: top;\n",
       "    }\n",
       "\n",
       "    .dataframe thead th {\n",
       "        text-align: right;\n",
       "    }\n",
       "</style>\n",
       "<table border=\"1\" class=\"dataframe\">\n",
       "  <thead>\n",
       "    <tr style=\"text-align: right;\">\n",
       "      <th></th>\n",
       "      <th>player_name</th>\n",
       "      <th>birthday</th>\n",
       "      <th>height</th>\n",
       "      <th>weight</th>\n",
       "      <th>date</th>\n",
       "      <th>overall_rating</th>\n",
       "      <th>potential</th>\n",
       "      <th>preferred_foot</th>\n",
       "      <th>attacking_work_rate</th>\n",
       "      <th>defensive_work_rate</th>\n",
       "      <th>...</th>\n",
       "      <th>penalties</th>\n",
       "      <th>marking</th>\n",
       "      <th>standing_tackle</th>\n",
       "      <th>sliding_tackle</th>\n",
       "      <th>gk_diving</th>\n",
       "      <th>gk_handling</th>\n",
       "      <th>gk_kicking</th>\n",
       "      <th>gk_positioning</th>\n",
       "      <th>gk_reflexes</th>\n",
       "      <th>professional_level</th>\n",
       "    </tr>\n",
       "  </thead>\n",
       "  <tbody>\n",
       "    <tr>\n",
       "      <th>102495</th>\n",
       "      <td>Lionel Messi</td>\n",
       "      <td>1987-06-24</td>\n",
       "      <td>170.18</td>\n",
       "      <td>159</td>\n",
       "      <td>2013-03-08</td>\n",
       "      <td>94.0</td>\n",
       "      <td>97.0</td>\n",
       "      <td>left</td>\n",
       "      <td>high</td>\n",
       "      <td>medium</td>\n",
       "      <td>...</td>\n",
       "      <td>78.0</td>\n",
       "      <td>13.0</td>\n",
       "      <td>21.0</td>\n",
       "      <td>20.0</td>\n",
       "      <td>6.0</td>\n",
       "      <td>11.0</td>\n",
       "      <td>15.0</td>\n",
       "      <td>14.0</td>\n",
       "      <td>8.0</td>\n",
       "      <td>world class</td>\n",
       "    </tr>\n",
       "  </tbody>\n",
       "</table>\n",
       "<p>1 rows × 44 columns</p>\n",
       "</div>"
      ],
      "text/plain": [
       "         player_name   birthday  height  weight       date  overall_rating  \\\n",
       "102495  Lionel Messi 1987-06-24  170.18     159 2013-03-08            94.0   \n",
       "\n",
       "        potential preferred_foot attacking_work_rate defensive_work_rate  \\\n",
       "102495       97.0           left                high              medium   \n",
       "\n",
       "               ...          penalties  marking  standing_tackle  \\\n",
       "102495         ...               78.0     13.0             21.0   \n",
       "\n",
       "        sliding_tackle  gk_diving  gk_handling  gk_kicking  gk_positioning  \\\n",
       "102495            20.0        6.0         11.0        15.0            14.0   \n",
       "\n",
       "        gk_reflexes  professional_level  \n",
       "102495          8.0         world class  \n",
       "\n",
       "[1 rows x 44 columns]"
      ]
     },
     "execution_count": 59,
     "metadata": {},
     "output_type": "execute_result"
    }
   ],
   "source": [
    "df_player_attributes.head(1)"
   ]
  },
  {
   "cell_type": "code",
   "execution_count": 60,
   "metadata": {},
   "outputs": [
    {
     "data": {
      "image/png": "[encoded data removed]",
      "text/plain": [
       "<matplotlib.figure.Figure at 0x7f7fe92fe630>"
      ]
     },
     "metadata": {
      "needs_background": "light"
     },
     "output_type": "display_data"
    }
   ],
   "source": [
    "#the preferred foot for players of different professional levels\n",
    "df_player_attributes.groupby(['professional_level', 'preferred_foot'])['player_name'].count().plot(kind = 'bar')\n",
    "plt.title('The Preferred foot for Players of Different Professional Levels')\n",
    "plt.xlabel('professional level, preferred foot')\n",
    "plt.ylabel('Number of Players');"
   ]
  },
  {
   "cell_type": "markdown",
   "metadata": {},
   "source": [
    "It looks like that most players are right footed "
   ]
  },
  {
   "cell_type": "code",
   "execution_count": 61,
   "metadata": {},
   "outputs": [
    {
     "data": {
      "image/png": "[encoded data removed]",
      "text/plain": [
       "<matplotlib.figure.Figure at 0x7f7fe935e4a8>"
      ]
     },
     "metadata": {
      "needs_background": "light"
     },
     "output_type": "display_data"
    }
   ],
   "source": [
    "#the level of vision of different levels of players\n",
    "df_player_attributes.groupby('professional_level')['vision'].mean().plot(kind = 'bar')\n",
    "plt.title('The Level of Vision of Different Professional Levels', fontsize = 18)\n",
    "plt.xlabel('professional level', fontsize = 15)\n",
    "plt.ylabel('mean vision', fontsize = 15)\n",
    "plt.xticks([0,1,2,3], ['rockie', 'intermediate level', 'top level', 'world class']);"
   ]
  },
  {
   "cell_type": "markdown",
   "metadata": {},
   "source": [
    "it seems that players with a higher overall rating has a better vision."
   ]
  },
  {
   "cell_type": "markdown",
   "metadata": {},
   "source": [
    "<a id='conclusions'></a>\n",
    "## Conclusions\n",
    "> **limitations**\n",
    "\n",
    "> 1. the soccer database from which all these datasets were extracted was complicated, and this may have slightly affected the integrity of the data selected from it.\n",
    "\n",
    "> 2. In the team attributes dataset, I have only used the data associted with the most recent year, 2015, and ignored the rest of the data to make the analysis somewhat easier.\n",
    "\n",
    "> **conclusions**\n",
    "\n",
    "> 1. Home field advantage does matter as home teams have approximately 45% chance of winning while away teams ony have 28%.\n",
    "> 2. Different team attributes are associated with higher winning rates.\n",
    "for example, teams who used a FAST builup play speed have achieved more wins than teams who used a BALANCED and SLOW buildup play speed. Also, teams who used th offside trap as their defending strategy have experienced more loses than teams who used the COVER defender line class.\n",
    "> 3. The teams who achieved the highest winning rates are FC Barcelona, Real Madrid CF, Sl Benfica, FC Porto.\n",
    "> 4. over the time period in question, Lionel Messi is the highest rated player in Europe, and Mario Baloteli has been the most successful penalty taker.\n",
    "> 5. Right footed players are much more common than left footed players.\n",
    "> 6. the level of vision of a player is directly proportional to its overall rating, as world class players tend to much much better vision than other players.\n",
    "\n",
    "\n",
    "\n",
    "## Submitting your Project \n",
    "\n",
    "> Before you submit your project, you need to create a .html or .pdf version of this notebook in the workspace here. To do that, run the code cell below. If it worked correctly, you should get a return code of 0, and you should see the generated .html file in the workspace directory (click on the orange Jupyter icon in the upper left).\n",
    "\n",
    "> Alternatively, you can download this report as .html via the **File** > **Download as** submenu, and then manually upload it into the workspace directory by clicking on the orange Jupyter icon in the upper left, then using the Upload button.\n",
    "\n",
    "> Once you've done this, you can submit your project by clicking on the \"Submit Project\" button in the lower right here. This will create and submit a zip file with this .ipynb doc and the .html or .pdf version you created. Congratulations!"
   ]
  },
  {
   "cell_type": "code",
   "execution_count": 107,
   "metadata": {},
   "outputs": [
    {
     "data": {
      "text/plain": [
       "0"
      ]
     },
     "execution_count": 107,
     "metadata": {},
     "output_type": "execute_result"
    }
   ],
   "source": [
    "from subprocess import call\n",
    "call(['python', '-m', 'nbconvert', 'Investigate_a_Dataset.ipynb'])"
   ]
  },
  {
   "cell_type": "code",
   "execution_count": null,
   "metadata": {},
   "outputs": [],
   "source": []
  }
 ],
 "metadata": {
  "kernelspec": {
   "display_name": "Python 3",
   "language": "python",
   "name": "python3"
  },
  "language_info": {
   "codemirror_mode": {
    "name": "ipython",
    "version": 3
   },
   "file_extension": ".py",
   "mimetype": "text/x-python",
   "name": "python",
   "nbconvert_exporter": "python",
   "pygments_lexer": "ipython3",
   "version": "3.6.3"
  }
 },
 "nbformat": 4,
 "nbformat_minor": 2
}
