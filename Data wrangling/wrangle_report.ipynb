{
 "cells": [
  {
   "cell_type": "markdown",
   "metadata": {},
   "source": [
    "# Wrangle Report"
   ]
  },
  {
   "cell_type": "markdown",
   "metadata": {},
   "source": [
    "The following report provides a general and concise description of the data wrangling process related to WeRateDogs dataset.\n",
    "This process can be divided into three main steps:\n",
    "- Gathering data\n",
    "- Assessing data\n",
    "- Cleaning data"
   ]
  },
  {
   "cell_type": "markdown",
   "metadata": {},
   "source": [
    "## Gathering Data"
   ]
  },
  {
   "cell_type": "markdown",
   "metadata": {},
   "source": [
    "For this project, I worked with three separate data sources each with a different method of gathering.\n",
    "1. Enhanced Twitter Archive\n",
    "\n",
    "This csv file was directly given to me and I only needed to import it into the working environment using pandas `read_csv()` function.\n",
    "\n",
    "2. Image prdictions\n",
    "\n",
    "for this tsv file, I was given a url and had to download it programmatically using the requests library.\n",
    "\n",
    "3. Twitter api data\n",
    "\n",
    "Using the tweet IDs in the WeRateDogs Twitter archive, I had to query the Twitter API for each tweet's JSON data using Python's Tweepy library and store each tweet's entire set of JSON data in a file called tweet_json.txt file. Then I read tweet_json.txt file line by line into a pandas DataFrame."
   ]
  },
  {
   "cell_type": "markdown",
   "metadata": {},
   "source": [
    "## Assessing Data"
   ]
  },
  {
   "cell_type": "markdown",
   "metadata": {},
   "source": [
    "The three datasets were assessed for quality and tidiness both visually and programmatically, and the following data quality and data tidiness issues were found."
   ]
  },
  {
   "cell_type": "markdown",
   "metadata": {},
   "source": [
    "### Quality Issues "
   ]
  },
  {
   "cell_type": "markdown",
   "metadata": {},
   "source": [
    "#### `twitter _archive` table\n",
    "1. there are 181 retweets\n",
    "2. Erroneous data type (*timestamp* column)\n",
    "3. two variables in one column (the *text* column contains both the tweet text and url)\n",
    "4. missing values in the *name* column\n",
    "5. inaccurate values in the *name* column ('the', 'an', 'a', 'quite')\n",
    "6. inaccurate ratings in the (*rating_numerator* column and the *rating_denominator* column)\n",
    "7. missing total rating column (*rating_numerator* / *rating_denominator*)\n",
    "\n",
    "#### `image_predictions` table\n",
    "1. the *p1*, *p2*, *p3* columns have '_' instead of spaces\n",
    "2. some predictions are not for dogs\n",
    "3. non descriptive column name (*jpg_url*) \n",
    "\n",
    "#### `twitter_api` table\n",
    "n/a"
   ]
  },
  {
   "cell_type": "markdown",
   "metadata": {},
   "source": [
    "### Tidiness Issues"
   ]
  },
  {
   "cell_type": "markdown",
   "metadata": {},
   "source": [
    "#### `twitter _archive` table\n",
    "1. unnecessary columns (*source*, *in_reply_to_status_id*, *in_reply_to_user_id*, *retweeted_status_id*, *retweeted_status_user_id*, *retweeted_status_timestamp*)\n",
    "2. column headers are values and not a variable name (*doggo*, *floofer*, *pupper*, *puppo*)\n",
    "\n",
    "#### `image_predictions` table\n",
    "1. unnecessary columns\n",
    "2. this table should be part of the twitter_archive table to filter tweets\n",
    "\n",
    "#### `twitter_api` table\n",
    "1. the table should be part of twitter_archive table\n"
   ]
  },
  {
   "cell_type": "markdown",
   "metadata": {},
   "source": [
    "## Cleaning Data"
   ]
  },
  {
   "cell_type": "markdown",
   "metadata": {},
   "source": [
    "The data quality and tidiness issues ranged from mild to challenging, and it took a lot of effort to get the data in the best possible format available.\n",
    "\n",
    "many of the columns had wrong data types that had to be converted to the correct one using `astype()` function. Other columns were inaccurately extracted, which resulted in a lot of incorrect and missing values, so I had to re-extract them again and drop the inaccurate values.\n",
    "\n",
    "some columns were either unnecessary that I had to drop to facilitate analysis or had undescriptive names which I had to change to a more interpretable one.\n",
    "\n",
    "Even merging the three tables together for easier analysis resulted in some columns being casted with a wrong data type and I had to convert them back to the correct one."
   ]
  },
  {
   "cell_type": "markdown",
   "metadata": {},
   "source": [
    "## Saving Data"
   ]
  },
  {
   "cell_type": "markdown",
   "metadata": {},
   "source": [
    "The final step of the wrangling process was to save the data into a csv file `twitter_archive_master.csv`, as well as a sqlite database that will be used later for analysis and visualization."
   ]
  }
 ],
 "metadata": {
  "kernelspec": {
   "display_name": "Python 3",
   "language": "python",
   "name": "python3"
  },
  "language_info": {
   "codemirror_mode": {
    "name": "ipython",
    "version": 3
   },
   "file_extension": ".py",
   "mimetype": "text/x-python",
   "name": "python",
   "nbconvert_exporter": "python",
   "pygments_lexer": "ipython3",
   "version": "3.6.3"
  }
 },
 "nbformat": 4,
 "nbformat_minor": 2
}
